{
 "cells": [
  {
   "cell_type": "markdown",
   "metadata": {},
   "source": [
    "# Spracovanie textu v Pythone"
   ]
  },
  {
   "cell_type": "markdown",
   "metadata": {},
   "source": [
    "NLTK (http://www.nltk.org/)\n",
    "\n",
    "Gensim (https://radimrehurek.com/gensim/tutorial.html)\n",
    "\n",
    "### Nástroje (mimo Pythonu)\n",
    "\n",
    "Stanford CoreNLP (https://stanfordnlp.github.io/CoreNLP/; rozhranie aj cez NLTK)\n",
    "\n",
    "Apache OpenNLP (https://opennlp.apache.org/)\n",
    "\n",
    "WordNet (https://wordnet.princeton.edu/; rozhranie cez NLTK)"
   ]
  },
  {
   "cell_type": "markdown",
   "metadata": {},
   "source": [
    "# NLTK"
   ]
  },
  {
   "cell_type": "markdown",
   "metadata": {},
   "source": [
    "http://www.nltk.org/book/"
   ]
  },
  {
   "cell_type": "code",
   "execution_count": 1,
   "metadata": {},
   "outputs": [],
   "source": [
    "import nltk"
   ]
  },
  {
   "cell_type": "code",
   "execution_count": 2,
   "metadata": {},
   "outputs": [],
   "source": [
    "from nltk.corpus import inaugural"
   ]
  },
  {
   "cell_type": "code",
   "execution_count": 3,
   "metadata": {},
   "outputs": [
    {
     "data": {
      "text/plain": [
       "['1789-Washington.txt',\n",
       " '1793-Washington.txt',\n",
       " '1797-Adams.txt',\n",
       " '1801-Jefferson.txt',\n",
       " '1805-Jefferson.txt',\n",
       " '1809-Madison.txt',\n",
       " '1813-Madison.txt',\n",
       " '1817-Monroe.txt',\n",
       " '1821-Monroe.txt',\n",
       " '1825-Adams.txt',\n",
       " '1829-Jackson.txt',\n",
       " '1833-Jackson.txt',\n",
       " '1837-VanBuren.txt',\n",
       " '1841-Harrison.txt',\n",
       " '1845-Polk.txt',\n",
       " '1849-Taylor.txt',\n",
       " '1853-Pierce.txt',\n",
       " '1857-Buchanan.txt',\n",
       " '1861-Lincoln.txt',\n",
       " '1865-Lincoln.txt',\n",
       " '1869-Grant.txt',\n",
       " '1873-Grant.txt',\n",
       " '1877-Hayes.txt',\n",
       " '1881-Garfield.txt',\n",
       " '1885-Cleveland.txt',\n",
       " '1889-Harrison.txt',\n",
       " '1893-Cleveland.txt',\n",
       " '1897-McKinley.txt',\n",
       " '1901-McKinley.txt',\n",
       " '1905-Roosevelt.txt',\n",
       " '1909-Taft.txt',\n",
       " '1913-Wilson.txt',\n",
       " '1917-Wilson.txt',\n",
       " '1921-Harding.txt',\n",
       " '1925-Coolidge.txt',\n",
       " '1929-Hoover.txt',\n",
       " '1933-Roosevelt.txt',\n",
       " '1937-Roosevelt.txt',\n",
       " '1941-Roosevelt.txt',\n",
       " '1945-Roosevelt.txt',\n",
       " '1949-Truman.txt',\n",
       " '1953-Eisenhower.txt',\n",
       " '1957-Eisenhower.txt',\n",
       " '1961-Kennedy.txt',\n",
       " '1965-Johnson.txt',\n",
       " '1969-Nixon.txt',\n",
       " '1973-Nixon.txt',\n",
       " '1977-Carter.txt',\n",
       " '1981-Reagan.txt',\n",
       " '1985-Reagan.txt',\n",
       " '1989-Bush.txt',\n",
       " '1993-Clinton.txt',\n",
       " '1997-Clinton.txt',\n",
       " '2001-Bush.txt',\n",
       " '2005-Bush.txt',\n",
       " '2009-Obama.txt']"
      ]
     },
     "execution_count": 3,
     "metadata": {},
     "output_type": "execute_result"
    }
   ],
   "source": [
    "inaugural.fileids()"
   ]
  },
  {
   "cell_type": "code",
   "execution_count": 4,
   "metadata": {},
   "outputs": [
    {
     "data": {
      "text/plain": [
       "['Fellow', '-', 'Citizens', 'of', 'the', 'Senate', ...]"
      ]
     },
     "execution_count": 4,
     "metadata": {},
     "output_type": "execute_result"
    }
   ],
   "source": [
    "inaugural.words('1789-Washington.txt')"
   ]
  },
  {
   "cell_type": "code",
   "execution_count": 5,
   "metadata": {},
   "outputs": [
    {
     "data": {
      "text/plain": [
       "1538"
      ]
     },
     "execution_count": 5,
     "metadata": {},
     "output_type": "execute_result"
    }
   ],
   "source": [
    "len(inaugural.words('1789-Washington.txt'))"
   ]
  },
  {
   "cell_type": "code",
   "execution_count": 6,
   "metadata": {},
   "outputs": [
    {
     "data": {
      "text/plain": [
       "[['Fellow', '-', 'Citizens', 'of', 'the', 'Senate', 'and', 'of', 'the', 'House', 'of', 'Representatives', ':'], ['Among', 'the', 'vicissitudes', 'incident', 'to', 'life', 'no', 'event', 'could', 'have', 'filled', 'me', 'with', 'greater', 'anxieties', 'than', 'that', 'of', 'which', 'the', 'notification', 'was', 'transmitted', 'by', 'your', 'order', ',', 'and', 'received', 'on', 'the', '14th', 'day', 'of', 'the', 'present', 'month', '.'], ...]"
      ]
     },
     "execution_count": 6,
     "metadata": {},
     "output_type": "execute_result"
    }
   ],
   "source": [
    "inaugural.sents('1789-Washington.txt')"
   ]
  },
  {
   "cell_type": "code",
   "execution_count": 7,
   "metadata": {},
   "outputs": [],
   "source": [
    "texts = []\n",
    "for fileid in inaugural.fileids():\n",
    "    year = fileid[:4]\n",
    "    name = fileid[5:].split('.')[0]\n",
    "    text = ' '.join(inaugural.words(fileid))\n",
    "    texts.append({'name': name, 'year': year, 'text': text})"
   ]
  },
  {
   "cell_type": "code",
   "execution_count": 8,
   "metadata": {},
   "outputs": [
    {
     "data": {
      "text/plain": [
       "{'name': 'Washington',\n",
       " 'text': 'Fellow - Citizens of the Senate and of the House of Representatives : Among the vicissitudes incident to life no event could have filled me with greater anxieties than that of which the notification was transmitted by your order , and received on the 14th day of the present month . On the one hand , I was summoned by my Country , whose voice I can never hear but with veneration and love , from a retreat which I had chosen with the fondest predilection , and , in my flattering hopes , with an immutable decision , as the asylum of my declining years -- a retreat which was rendered every day more necessary as well as more dear to me by the addition of habit to inclination , and of frequent interruptions in my health to the gradual waste committed on it by time . On the other hand , the magnitude and difficulty of the trust to which the voice of my country called me , being sufficient to awaken in the wisest and most experienced of her citizens a distrustful scrutiny into his qualifications , could not but overwhelm with despondence one who ( inheriting inferior endowments from nature and unpracticed in the duties of civil administration ) ought to be peculiarly conscious of his own deficiencies . In this conflict of emotions all I dare aver is that it has been my faithful study to collect my duty from a just appreciation of every circumstance by which it might be affected . All I dare hope is that if , in executing this task , I have been too much swayed by a grateful remembrance of former instances , or by an affectionate sensibility to this transcendent proof of the confidence of my fellow citizens , and have thence too little consulted my incapacity as well as disinclination for the weighty and untried cares before me , my error will be palliated by the motives which mislead me , and its consequences be judged by my country with some share of the partiality in which they originated . Such being the impressions under which I have , in obedience to the public summons , repaired to the present station , it would be peculiarly improper to omit in this first official act my fervent supplications to that Almighty Being who rules over the universe , who presides in the councils of nations , and whose providential aids can supply every human defect , that His benediction may consecrate to the liberties and happiness of the people of the United States a Government instituted by themselves for these essential purposes , and may enable every instrument employed in its administration to execute with success the functions allotted to his charge . In tendering this homage to the Great Author of every public and private good , I assure myself that it expresses your sentiments not less than my own , nor those of my fellow citizens at large less than either . No people can be bound to acknowledge and adore the Invisible Hand which conducts the affairs of men more than those of the United States . Every step by which they have advanced to the character of an independent nation seems to have been distinguished by some token of providential agency ; and in the important revolution just accomplished in the system of their united government the tranquil deliberations and voluntary consent of so many distinct communities from which the event has resulted can not be compared with the means by which most governments have been established without some return of pious gratitude , along with an humble anticipation of the future blessings which the past seem to presage . These reflections , arising out of the present crisis , have forced themselves too strongly on my mind to be suppressed . You will join with me , I trust , in thinking that there are none under the influence of which the proceedings of a new and free government can more auspiciously commence . By the article establishing the executive department it is made the duty of the President \" to recommend to your consideration such measures as he shall judge necessary and expedient .\" The circumstances under which I now meet you will acquit me from entering into that subject further than to refer to the great constitutional charter under which you are assembled , and which , in defining your powers , designates the objects to which your attention is to be given . It will be more consistent with those circumstances , and far more congenial with the feelings which actuate me , to substitute , in place of a recommendation of particular measures , the tribute that is due to the talents , the rectitude , and the patriotism which adorn the characters selected to devise and adopt them . In these honorable qualifications I behold the surest pledges that as on one side no local prejudices or attachments , no separate views nor party animosities , will misdirect the comprehensive and equal eye which ought to watch over this great assemblage of communities and interests , so , on another , that the foundation of our national policy will be laid in the pure and immutable principles of private morality , and the preeminence of free government be exemplified by all the attributes which can win the affections of its citizens and command the respect of the world . I dwell on this prospect with every satisfaction which an ardent love for my country can inspire , since there is no truth more thoroughly established than that there exists in the economy and course of nature an indissoluble union between virtue and happiness ; between duty and advantage ; between the genuine maxims of an honest and magnanimous policy and the solid rewards of public prosperity and felicity ; since we ought to be no less persuaded that the propitious smiles of Heaven can never be expected on a nation that disregards the eternal rules of order and right which Heaven itself has ordained ; and since the preservation of the sacred fire of liberty and the destiny of the republican model of government are justly considered , perhaps , as deeply , as finally , staked on the experiment entrusted to the hands of the American people . Besides the ordinary objects submitted to your care , it will remain with your judgment to decide how far an exercise of the occasional power delegated by the fifth article of the Constitution is rendered expedient at the present juncture by the nature of objections which have been urged against the system , or by the degree of inquietude which has given birth to them . Instead of undertaking particular recommendations on this subject , in which I could be guided by no lights derived from official opportunities , I shall again give way to my entire confidence in your discernment and pursuit of the public good ; for I assure myself that whilst you carefully avoid every alteration which might endanger the benefits of an united and effective government , or which ought to await the future lessons of experience , a reverence for the characteristic rights of freemen and a regard for the public harmony will sufficiently influence your deliberations on the question how far the former can be impregnably fortified or the latter be safely and advantageously promoted . To the foregoing observations I have one to add , which will be most properly addressed to the House of Representatives . It concerns myself , and will therefore be as brief as possible . When I was first honored with a call into the service of my country , then on the eve of an arduous struggle for its liberties , the light in which I contemplated my duty required that I should renounce every pecuniary compensation . From this resolution I have in no instance departed ; and being still under the impressions which produced it , I must decline as inapplicable to myself any share in the personal emoluments which may be indispensably included in a permanent provision for the executive department , and must accordingly pray that the pecuniary estimates for the station in which I am placed may during my continuance in it be limited to such actual expenditures as the public good may be thought to require . Having thus imparted to you my sentiments as they have been awakened by the occasion which brings us together , I shall take my present leave ; but not without resorting once more to the benign Parent of the Human Race in humble supplication that , since He has been pleased to favor the American people with opportunities for deliberating in perfect tranquillity , and dispositions for deciding with unparalleled unanimity on a form of government for the security of their union and the advancement of their happiness , so His divine blessing may be equally conspicuous in the enlarged views , the temperate consultations , and the wise measures on which the success of this Government must depend .',\n",
       " 'year': '1789'}"
      ]
     },
     "execution_count": 8,
     "metadata": {},
     "output_type": "execute_result"
    }
   ],
   "source": [
    "texts[0]"
   ]
  },
  {
   "cell_type": "markdown",
   "metadata": {},
   "source": [
    "## Tokenizácia"
   ]
  },
  {
   "cell_type": "code",
   "execution_count": 9,
   "metadata": {},
   "outputs": [],
   "source": [
    "text = texts[0]['text']"
   ]
  },
  {
   "cell_type": "code",
   "execution_count": 10,
   "metadata": {},
   "outputs": [],
   "source": [
    "sentences = nltk.sent_tokenize(text)"
   ]
  },
  {
   "cell_type": "code",
   "execution_count": 11,
   "metadata": {},
   "outputs": [
    {
     "data": {
      "text/plain": [
       "['Fellow - Citizens of the Senate and of the House of Representatives : Among the vicissitudes incident to life no event could have filled me with greater anxieties than that of which the notification was transmitted by your order , and received on the 14th day of the present month .',\n",
       " 'On the one hand , I was summoned by my Country , whose voice I can never hear but with veneration and love , from a retreat which I had chosen with the fondest predilection , and , in my flattering hopes , with an immutable decision , as the asylum of my declining years -- a retreat which was rendered every day more necessary as well as more dear to me by the addition of habit to inclination , and of frequent interruptions in my health to the gradual waste committed on it by time .',\n",
       " 'On the other hand , the magnitude and difficulty of the trust to which the voice of my country called me , being sufficient to awaken in the wisest and most experienced of her citizens a distrustful scrutiny into his qualifications , could not but overwhelm with despondence one who ( inheriting inferior endowments from nature and unpracticed in the duties of civil administration ) ought to be peculiarly conscious of his own deficiencies .',\n",
       " 'In this conflict of emotions all I dare aver is that it has been my faithful study to collect my duty from a just appreciation of every circumstance by which it might be affected .',\n",
       " 'All I dare hope is that if , in executing this task , I have been too much swayed by a grateful remembrance of former instances , or by an affectionate sensibility to this transcendent proof of the confidence of my fellow citizens , and have thence too little consulted my incapacity as well as disinclination for the weighty and untried cares before me , my error will be palliated by the motives which mislead me , and its consequences be judged by my country with some share of the partiality in which they originated .']"
      ]
     },
     "execution_count": 11,
     "metadata": {},
     "output_type": "execute_result"
    }
   ],
   "source": [
    "sentences[:5]"
   ]
  },
  {
   "cell_type": "code",
   "execution_count": 12,
   "metadata": {},
   "outputs": [],
   "source": [
    "sent = sentences[0]"
   ]
  },
  {
   "cell_type": "code",
   "execution_count": 13,
   "metadata": {},
   "outputs": [],
   "source": [
    "tokens = nltk.word_tokenize(sent)"
   ]
  },
  {
   "cell_type": "code",
   "execution_count": 14,
   "metadata": {},
   "outputs": [
    {
     "data": {
      "text/plain": [
       "['Fellow',\n",
       " '-',\n",
       " 'Citizens',\n",
       " 'of',\n",
       " 'the',\n",
       " 'Senate',\n",
       " 'and',\n",
       " 'of',\n",
       " 'the',\n",
       " 'House',\n",
       " 'of',\n",
       " 'Representatives',\n",
       " ':',\n",
       " 'Among',\n",
       " 'the',\n",
       " 'vicissitudes',\n",
       " 'incident',\n",
       " 'to',\n",
       " 'life',\n",
       " 'no',\n",
       " 'event',\n",
       " 'could',\n",
       " 'have',\n",
       " 'filled',\n",
       " 'me',\n",
       " 'with',\n",
       " 'greater',\n",
       " 'anxieties',\n",
       " 'than',\n",
       " 'that',\n",
       " 'of',\n",
       " 'which',\n",
       " 'the',\n",
       " 'notification',\n",
       " 'was',\n",
       " 'transmitted',\n",
       " 'by',\n",
       " 'your',\n",
       " 'order',\n",
       " ',',\n",
       " 'and',\n",
       " 'received',\n",
       " 'on',\n",
       " 'the',\n",
       " '14th',\n",
       " 'day',\n",
       " 'of',\n",
       " 'the',\n",
       " 'present',\n",
       " 'month',\n",
       " '.']"
      ]
     },
     "execution_count": 14,
     "metadata": {},
     "output_type": "execute_result"
    }
   ],
   "source": [
    "tokens"
   ]
  },
  {
   "cell_type": "markdown",
   "metadata": {},
   "source": [
    "## Stemming"
   ]
  },
  {
   "cell_type": "markdown",
   "metadata": {},
   "source": [
    "Stemming vráti korene slov. Napr. *ryba -> ryb*"
   ]
  },
  {
   "cell_type": "code",
   "execution_count": 15,
   "metadata": {},
   "outputs": [],
   "source": [
    "porter = nltk.PorterStemmer()"
   ]
  },
  {
   "cell_type": "code",
   "execution_count": 16,
   "metadata": {},
   "outputs": [
    {
     "data": {
      "text/plain": [
       "['fellow',\n",
       " '-',\n",
       " 'citizen',\n",
       " 'of',\n",
       " 'the',\n",
       " 'senat',\n",
       " 'and',\n",
       " 'of',\n",
       " 'the',\n",
       " 'hous',\n",
       " 'of',\n",
       " 'repres',\n",
       " ':',\n",
       " 'among',\n",
       " 'the',\n",
       " 'vicissitud',\n",
       " 'incid',\n",
       " 'to',\n",
       " 'life',\n",
       " 'no',\n",
       " 'event',\n",
       " 'could',\n",
       " 'have',\n",
       " 'fill',\n",
       " 'me',\n",
       " 'with',\n",
       " 'greater',\n",
       " 'anxieti',\n",
       " 'than',\n",
       " 'that',\n",
       " 'of',\n",
       " 'which',\n",
       " 'the',\n",
       " 'notif',\n",
       " 'wa',\n",
       " 'transmit',\n",
       " 'by',\n",
       " 'your',\n",
       " 'order',\n",
       " ',',\n",
       " 'and',\n",
       " 'receiv',\n",
       " 'on',\n",
       " 'the',\n",
       " '14th',\n",
       " 'day',\n",
       " 'of',\n",
       " 'the',\n",
       " 'present',\n",
       " 'month',\n",
       " '.']"
      ]
     },
     "execution_count": 16,
     "metadata": {},
     "output_type": "execute_result"
    }
   ],
   "source": [
    "[porter.stem(token) for token in tokens]"
   ]
  },
  {
   "cell_type": "markdown",
   "metadata": {},
   "source": [
    "## Lematizácia"
   ]
  },
  {
   "cell_type": "markdown",
   "metadata": {},
   "source": [
    "Lematizácia prevádza slová na ich základný slovníkový tvar. Napr. *rybe -> ryba*"
   ]
  },
  {
   "cell_type": "code",
   "execution_count": 17,
   "metadata": {},
   "outputs": [],
   "source": [
    "wnl = nltk.WordNetLemmatizer()"
   ]
  },
  {
   "cell_type": "code",
   "execution_count": 18,
   "metadata": {},
   "outputs": [
    {
     "data": {
      "text/plain": [
       "['Fellow',\n",
       " '-',\n",
       " 'Citizens',\n",
       " 'of',\n",
       " 'the',\n",
       " 'Senate',\n",
       " 'and',\n",
       " 'of',\n",
       " 'the',\n",
       " 'House',\n",
       " 'of',\n",
       " 'Representatives',\n",
       " ':',\n",
       " 'Among',\n",
       " 'the',\n",
       " 'vicissitude',\n",
       " 'incident',\n",
       " 'to',\n",
       " 'life',\n",
       " 'no',\n",
       " 'event',\n",
       " 'could',\n",
       " 'have',\n",
       " 'filled',\n",
       " 'me',\n",
       " 'with',\n",
       " 'greater',\n",
       " 'anxiety',\n",
       " 'than',\n",
       " 'that',\n",
       " 'of',\n",
       " 'which',\n",
       " 'the',\n",
       " 'notification',\n",
       " 'wa',\n",
       " 'transmitted',\n",
       " 'by',\n",
       " 'your',\n",
       " 'order',\n",
       " ',',\n",
       " 'and',\n",
       " 'received',\n",
       " 'on',\n",
       " 'the',\n",
       " '14th',\n",
       " 'day',\n",
       " 'of',\n",
       " 'the',\n",
       " 'present',\n",
       " 'month',\n",
       " '.']"
      ]
     },
     "execution_count": 18,
     "metadata": {},
     "output_type": "execute_result"
    }
   ],
   "source": [
    "[wnl.lemmatize(token) for token in tokens]"
   ]
  },
  {
   "cell_type": "markdown",
   "metadata": {},
   "source": [
    "## Part-of-Speech Tagging"
   ]
  },
  {
   "cell_type": "code",
   "execution_count": 19,
   "metadata": {},
   "outputs": [
    {
     "data": {
      "text/plain": [
       "[('Fellow', 'NNP'),\n",
       " ('-', ':'),\n",
       " ('Citizens', 'NNS'),\n",
       " ('of', 'IN'),\n",
       " ('the', 'DT'),\n",
       " ('Senate', 'NNP'),\n",
       " ('and', 'CC'),\n",
       " ('of', 'IN'),\n",
       " ('the', 'DT'),\n",
       " ('House', 'NNP'),\n",
       " ('of', 'IN'),\n",
       " ('Representatives', 'NNPS'),\n",
       " (':', ':'),\n",
       " ('Among', 'IN'),\n",
       " ('the', 'DT'),\n",
       " ('vicissitudes', 'NNS'),\n",
       " ('incident', 'NN'),\n",
       " ('to', 'TO'),\n",
       " ('life', 'NN'),\n",
       " ('no', 'DT'),\n",
       " ('event', 'NN'),\n",
       " ('could', 'MD'),\n",
       " ('have', 'VB'),\n",
       " ('filled', 'VBN'),\n",
       " ('me', 'PRP'),\n",
       " ('with', 'IN'),\n",
       " ('greater', 'JJR'),\n",
       " ('anxieties', 'NNS'),\n",
       " ('than', 'IN'),\n",
       " ('that', 'DT'),\n",
       " ('of', 'IN'),\n",
       " ('which', 'WDT'),\n",
       " ('the', 'DT'),\n",
       " ('notification', 'NN'),\n",
       " ('was', 'VBD'),\n",
       " ('transmitted', 'VBN'),\n",
       " ('by', 'IN'),\n",
       " ('your', 'PRP$'),\n",
       " ('order', 'NN'),\n",
       " (',', ','),\n",
       " ('and', 'CC'),\n",
       " ('received', 'VBD'),\n",
       " ('on', 'IN'),\n",
       " ('the', 'DT'),\n",
       " ('14th', 'JJ'),\n",
       " ('day', 'NN'),\n",
       " ('of', 'IN'),\n",
       " ('the', 'DT'),\n",
       " ('present', 'JJ'),\n",
       " ('month', 'NN'),\n",
       " ('.', '.')]"
      ]
     },
     "execution_count": 19,
     "metadata": {},
     "output_type": "execute_result"
    }
   ],
   "source": [
    "tagged = nltk.pos_tag(tokens)\n",
    "tagged"
   ]
  },
  {
   "cell_type": "code",
   "execution_count": 20,
   "metadata": {},
   "outputs": [
    {
     "name": "stdout",
     "output_type": "stream",
     "text": [
      "IN: preposition or conjunction, subordinating\n",
      "    astride among uppon whether out inside pro despite on by throughout\n",
      "    below within for towards near behind atop around if like until below\n",
      "    next into if beside ...\n"
     ]
    }
   ],
   "source": [
    "nltk.help.upenn_tagset('IN')"
   ]
  },
  {
   "cell_type": "code",
   "execution_count": 21,
   "metadata": {},
   "outputs": [
    {
     "name": "stdout",
     "output_type": "stream",
     "text": [
      "NNP: noun, proper, singular\n",
      "    Motown Venneboerger Czestochwa Ranzer Conchita Trumplane Christos\n",
      "    Oceanside Escobar Kreisler Sawyer Cougar Yvette Ervin ODI Darryl CTCA\n",
      "    Shannon A.K.C. Meltex Liverpool ...\n"
     ]
    }
   ],
   "source": [
    "nltk.help.upenn_tagset('NNP')"
   ]
  },
  {
   "cell_type": "markdown",
   "metadata": {},
   "source": [
    "## Menné entity"
   ]
  },
  {
   "cell_type": "code",
   "execution_count": 22,
   "metadata": {},
   "outputs": [],
   "source": [
    "entities = nltk.chunk.ne_chunk(tagged)"
   ]
  },
  {
   "cell_type": "code",
   "execution_count": 23,
   "metadata": {},
   "outputs": [
    {
     "name": "stdout",
     "output_type": "stream",
     "text": [
      "Tree('S', [Tree('GPE', [('Fellow', 'NNP')]), ('-', ':'), ('Citizens', 'NNS'), ('of', 'IN'), ('the', 'DT'), Tree('ORGANIZATION', [('Senate', 'NNP')]), ('and', 'CC'), ('of', 'IN'), ('the', 'DT'), Tree('ORGANIZATION', [('House', 'NNP')]), ('of', 'IN'), ('Representatives', 'NNPS'), (':', ':'), ('Among', 'IN'), ('the', 'DT'), ('vicissitudes', 'NNS'), ('incident', 'NN'), ('to', 'TO'), ('life', 'NN'), ('no', 'DT'), ('event', 'NN'), ('could', 'MD'), ('have', 'VB'), ('filled', 'VBN'), ('me', 'PRP'), ('with', 'IN'), ('greater', 'JJR'), ('anxieties', 'NNS'), ('than', 'IN'), ('that', 'DT'), ('of', 'IN'), ('which', 'WDT'), ('the', 'DT'), ('notification', 'NN'), ('was', 'VBD'), ('transmitted', 'VBN'), ('by', 'IN'), ('your', 'PRP$'), ('order', 'NN'), (',', ','), ('and', 'CC'), ('received', 'VBD'), ('on', 'IN'), ('the', 'DT'), ('14th', 'JJ'), ('day', 'NN'), ('of', 'IN'), ('the', 'DT'), ('present', 'JJ'), ('month', 'NN'), ('.', '.')])\n"
     ]
    }
   ],
   "source": [
    "print(entities.__repr__())"
   ]
  },
  {
   "cell_type": "markdown",
   "metadata": {},
   "source": [
    "## N-gramy"
   ]
  },
  {
   "cell_type": "code",
   "execution_count": 24,
   "metadata": {},
   "outputs": [],
   "source": [
    "tokens = nltk.word_tokenize(text)"
   ]
  },
  {
   "cell_type": "code",
   "execution_count": 25,
   "metadata": {},
   "outputs": [
    {
     "data": {
      "text/plain": [
       "[('Fellow', '-'),\n",
       " ('-', 'Citizens'),\n",
       " ('Citizens', 'of'),\n",
       " ('of', 'the'),\n",
       " ('the', 'Senate')]"
      ]
     },
     "execution_count": 25,
     "metadata": {},
     "output_type": "execute_result"
    }
   ],
   "source": [
    "bigrams = list(nltk.bigrams(tokens))\n",
    "bigrams[:5]"
   ]
  },
  {
   "cell_type": "code",
   "execution_count": 26,
   "metadata": {},
   "outputs": [
    {
     "data": {
      "text/plain": [
       "[(('of', 'the'), 20),\n",
       " ((',', 'and'), 15),\n",
       " (('to', 'the'), 11),\n",
       " (('in', 'the'), 9),\n",
       " ((',', 'I'), 7),\n",
       " ((',', 'in'), 7),\n",
       " (('which', 'the'), 6),\n",
       " (('which', 'I'), 6),\n",
       " (('by', 'the'), 6),\n",
       " (('for', 'the'), 6)]"
      ]
     },
     "execution_count": 26,
     "metadata": {},
     "output_type": "execute_result"
    }
   ],
   "source": [
    "nltk.FreqDist(bigrams).most_common(10)"
   ]
  },
  {
   "cell_type": "code",
   "execution_count": 27,
   "metadata": {},
   "outputs": [],
   "source": [
    "stopwords = nltk.corpus.stopwords.words('english')"
   ]
  },
  {
   "cell_type": "code",
   "execution_count": 28,
   "metadata": {},
   "outputs": [
    {
     "data": {
      "text/plain": [
       "['i', 'me', 'my', 'myself', 'we', 'our', 'ours', 'ourselves', 'you', \"you're\"]"
      ]
     },
     "execution_count": 28,
     "metadata": {},
     "output_type": "execute_result"
    }
   ],
   "source": [
    "stopwords[:10]"
   ]
  },
  {
   "cell_type": "code",
   "execution_count": 29,
   "metadata": {},
   "outputs": [],
   "source": [
    "tokens_cleared = [token.lower() for token in tokens if token.isalpha() and token.lower() not in stopwords]"
   ]
  },
  {
   "cell_type": "code",
   "execution_count": 30,
   "metadata": {},
   "outputs": [
    {
     "data": {
      "text/plain": [
       "['fellow',\n",
       " 'citizens',\n",
       " 'senate',\n",
       " 'house',\n",
       " 'representatives',\n",
       " 'among',\n",
       " 'vicissitudes',\n",
       " 'incident',\n",
       " 'life',\n",
       " 'event']"
      ]
     },
     "execution_count": 30,
     "metadata": {},
     "output_type": "execute_result"
    }
   ],
   "source": [
    "tokens_cleared[:10]"
   ]
  },
  {
   "cell_type": "code",
   "execution_count": 31,
   "metadata": {},
   "outputs": [
    {
     "data": {
      "text/plain": [
       "[(('fellow', 'citizens'), 3),\n",
       " (('house', 'representatives'), 2),\n",
       " (('united', 'states'), 2),\n",
       " (('good', 'assure'), 2),\n",
       " (('free', 'government'), 2),\n",
       " (('executive', 'department'), 2),\n",
       " (('american', 'people'), 2),\n",
       " (('public', 'good'), 2),\n",
       " (('citizens', 'senate'), 1),\n",
       " (('senate', 'house'), 1)]"
      ]
     },
     "execution_count": 31,
     "metadata": {},
     "output_type": "execute_result"
    }
   ],
   "source": [
    "nltk.FreqDist(nltk.bigrams(tokens_cleared)).most_common(10)"
   ]
  },
  {
   "cell_type": "code",
   "execution_count": 32,
   "metadata": {},
   "outputs": [
    {
     "data": {
      "text/plain": [
       "[(('fellow', 'citizens', 'senate'), 1),\n",
       " (('citizens', 'senate', 'house'), 1),\n",
       " (('senate', 'house', 'representatives'), 1),\n",
       " (('house', 'representatives', 'among'), 1),\n",
       " (('representatives', 'among', 'vicissitudes'), 1),\n",
       " (('among', 'vicissitudes', 'incident'), 1),\n",
       " (('vicissitudes', 'incident', 'life'), 1),\n",
       " (('incident', 'life', 'event'), 1),\n",
       " (('life', 'event', 'could'), 1),\n",
       " (('event', 'could', 'filled'), 1)]"
      ]
     },
     "execution_count": 32,
     "metadata": {},
     "output_type": "execute_result"
    }
   ],
   "source": [
    "nltk.FreqDist(nltk.trigrams(tokens_cleared)).most_common(10)"
   ]
  },
  {
   "cell_type": "markdown",
   "metadata": {},
   "source": [
    "## WordNet"
   ]
  },
  {
   "cell_type": "markdown",
   "metadata": {},
   "source": [
    "* Lexikálna databáza\n",
    "* Obsahuje synsety\n",
    "  * Podstatné mená, slovesá, prídavné mená, príslovky\n",
    "* Prepojenia medzi synsetmi\n",
    "  * Antonymá, hyperonymá, hyponymá, holonymá, meronymá\n"
   ]
  },
  {
   "cell_type": "code",
   "execution_count": 33,
   "metadata": {},
   "outputs": [],
   "source": [
    "from nltk.corpus import wordnet as wn"
   ]
  },
  {
   "cell_type": "code",
   "execution_count": 34,
   "metadata": {},
   "outputs": [
    {
     "data": {
      "text/plain": [
       "[Synset('car.n.01'),\n",
       " Synset('car.n.02'),\n",
       " Synset('car.n.03'),\n",
       " Synset('car.n.04'),\n",
       " Synset('cable_car.n.01')]"
      ]
     },
     "execution_count": 34,
     "metadata": {},
     "output_type": "execute_result"
    }
   ],
   "source": [
    "wn.synsets('car')"
   ]
  },
  {
   "cell_type": "code",
   "execution_count": 35,
   "metadata": {},
   "outputs": [],
   "source": [
    "car = wn.synset('car.n.01')"
   ]
  },
  {
   "cell_type": "code",
   "execution_count": 36,
   "metadata": {},
   "outputs": [
    {
     "data": {
      "text/plain": [
       "['car', 'auto', 'automobile', 'machine', 'motorcar']"
      ]
     },
     "execution_count": 36,
     "metadata": {},
     "output_type": "execute_result"
    }
   ],
   "source": [
    "car.lemma_names()"
   ]
  },
  {
   "cell_type": "code",
   "execution_count": 37,
   "metadata": {},
   "outputs": [
    {
     "data": {
      "text/plain": [
       "'a motor vehicle with four wheels; usually propelled by an internal combustion engine'"
      ]
     },
     "execution_count": 37,
     "metadata": {},
     "output_type": "execute_result"
    }
   ],
   "source": [
    "car.definition()"
   ]
  },
  {
   "cell_type": "code",
   "execution_count": 38,
   "metadata": {},
   "outputs": [
    {
     "data": {
      "text/plain": [
       "['he needs a car to get to work']"
      ]
     },
     "execution_count": 38,
     "metadata": {},
     "output_type": "execute_result"
    }
   ],
   "source": [
    "car.examples()"
   ]
  },
  {
   "cell_type": "code",
   "execution_count": 39,
   "metadata": {},
   "outputs": [
    {
     "data": {
      "text/plain": [
       "[Synset('ambulance.n.01'),\n",
       " Synset('beach_wagon.n.01'),\n",
       " Synset('bus.n.04'),\n",
       " Synset('cab.n.03'),\n",
       " Synset('compact.n.03'),\n",
       " Synset('convertible.n.01'),\n",
       " Synset('coupe.n.01'),\n",
       " Synset('cruiser.n.01'),\n",
       " Synset('electric.n.01'),\n",
       " Synset('gas_guzzler.n.01'),\n",
       " Synset('hardtop.n.01'),\n",
       " Synset('hatchback.n.01'),\n",
       " Synset('horseless_carriage.n.01'),\n",
       " Synset('hot_rod.n.01'),\n",
       " Synset('jeep.n.01'),\n",
       " Synset('limousine.n.01'),\n",
       " Synset('loaner.n.02'),\n",
       " Synset('minicar.n.01'),\n",
       " Synset('minivan.n.01'),\n",
       " Synset('model_t.n.01'),\n",
       " Synset('pace_car.n.01'),\n",
       " Synset('racer.n.02'),\n",
       " Synset('roadster.n.01'),\n",
       " Synset('sedan.n.01'),\n",
       " Synset('sport_utility.n.01'),\n",
       " Synset('sports_car.n.01'),\n",
       " Synset('stanley_steamer.n.01'),\n",
       " Synset('stock_car.n.01'),\n",
       " Synset('subcompact.n.01'),\n",
       " Synset('touring_car.n.01'),\n",
       " Synset('used-car.n.01')]"
      ]
     },
     "execution_count": 39,
     "metadata": {},
     "output_type": "execute_result"
    }
   ],
   "source": [
    "car.hyponyms()"
   ]
  },
  {
   "cell_type": "code",
   "execution_count": 40,
   "metadata": {},
   "outputs": [
    {
     "data": {
      "text/plain": [
       "[Synset('motor_vehicle.n.01')]"
      ]
     },
     "execution_count": 40,
     "metadata": {},
     "output_type": "execute_result"
    }
   ],
   "source": [
    "car.hypernyms()"
   ]
  },
  {
   "cell_type": "code",
   "execution_count": 41,
   "metadata": {},
   "outputs": [
    {
     "data": {
      "text/plain": [
       "[Synset('accelerator.n.01'),\n",
       " Synset('air_bag.n.01'),\n",
       " Synset('auto_accessory.n.01'),\n",
       " Synset('automobile_engine.n.01'),\n",
       " Synset('automobile_horn.n.01'),\n",
       " Synset('buffer.n.06'),\n",
       " Synset('bumper.n.02'),\n",
       " Synset('car_door.n.01'),\n",
       " Synset('car_mirror.n.01'),\n",
       " Synset('car_seat.n.01'),\n",
       " Synset('car_window.n.01'),\n",
       " Synset('fender.n.01'),\n",
       " Synset('first_gear.n.01'),\n",
       " Synset('floorboard.n.02'),\n",
       " Synset('gasoline_engine.n.01'),\n",
       " Synset('glove_compartment.n.01'),\n",
       " Synset('grille.n.02'),\n",
       " Synset('high_gear.n.01'),\n",
       " Synset('hood.n.09'),\n",
       " Synset('luggage_compartment.n.01'),\n",
       " Synset('rear_window.n.01'),\n",
       " Synset('reverse.n.02'),\n",
       " Synset('roof.n.02'),\n",
       " Synset('running_board.n.01'),\n",
       " Synset('stabilizer_bar.n.01'),\n",
       " Synset('sunroof.n.01'),\n",
       " Synset('tail_fin.n.02'),\n",
       " Synset('third_gear.n.01'),\n",
       " Synset('window.n.02')]"
      ]
     },
     "execution_count": 41,
     "metadata": {},
     "output_type": "execute_result"
    }
   ],
   "source": [
    "car.part_meronyms()"
   ]
  },
  {
   "cell_type": "code",
   "execution_count": 42,
   "metadata": {},
   "outputs": [
    {
     "data": {
      "text/plain": [
       "[Lemma('white.n.02.white')]"
      ]
     },
     "execution_count": 42,
     "metadata": {},
     "output_type": "execute_result"
    }
   ],
   "source": [
    "wn.synsets('black')[0].lemmas()[0].antonyms()"
   ]
  },
  {
   "cell_type": "markdown",
   "metadata": {},
   "source": [
    "# Reprezentácia textu"
   ]
  },
  {
   "cell_type": "markdown",
   "metadata": {},
   "source": [
    "Textový dokument väčšinou reprezentujeme pomocou množiny slov (angl. *bag-of-words*) = vektorom. Zložky vektoru predstavujú jednotlivé slová, resp. n-gramy zo slovníka (pre celý korpus/jazyk). Hodnotou zložiek vektora môže byť:\n",
    "\n",
    "* početnosť\n",
    "* frekvencia\n",
    "* váhovaná frekvencia"
   ]
  },
  {
   "cell_type": "markdown",
   "metadata": {},
   "source": [
    "Slová s vysokou frekvenciou výskytu v jazyku (spojky a pod.) sa označujú ako tzv. *stop slová* a zvyknú sa pri predspracovaní odstraňovať."
   ]
  },
  {
   "cell_type": "markdown",
   "metadata": {},
   "source": [
    "## TF-IDF"
   ]
  },
  {
   "cell_type": "markdown",
   "metadata": {},
   "source": [
    "Term frequency * inverse document frequency\n",
    "\n",
    "`TF` – frekvencia slova v aktuálnom dokumente\n",
    "\n",
    "`IDF` – záporný logaritmus pravdepodobnosti výskytu slova v dokumente (rovnaká pre všetky dokumenty)"
   ]
  },
  {
   "cell_type": "markdown",
   "metadata": {},
   "source": [
    "Rôzne varianty (váhovacie schémy): https://en.wikipedia.org/wiki/Tf%E2%80%93idf"
   ]
  },
  {
   "cell_type": "markdown",
   "metadata": {},
   "source": [
    "## Gensim"
   ]
  },
  {
   "cell_type": "markdown",
   "metadata": {},
   "source": [
    "Knižnica na modelovanie tém v dokumentoch.\n",
    "\n",
    "Implementuje TF-IDF, LSA, pLSA, LDA, HDP, DTM, word2vec"
   ]
  },
  {
   "cell_type": "markdown",
   "metadata": {},
   "source": [
    "https://radimrehurek.com/gensim/tutorial.html"
   ]
  },
  {
   "cell_type": "code",
   "execution_count": 43,
   "metadata": {},
   "outputs": [
    {
     "name": "stderr",
     "output_type": "stream",
     "text": [
      "C:\\Users\\robom\\Anaconda3\\lib\\site-packages\\gensim\\utils.py:1197: UserWarning: detected Windows; aliasing chunkize to chunkize_serial\n",
      "  warnings.warn(\"detected Windows; aliasing chunkize to chunkize_serial\")\n"
     ]
    }
   ],
   "source": [
    "from gensim import corpora, models, similarities"
   ]
  },
  {
   "cell_type": "code",
   "execution_count": 44,
   "metadata": {},
   "outputs": [],
   "source": [
    "def preprocess_text(text):\n",
    "    tokens = nltk.word_tokenize(text)\n",
    "    stopwords = nltk.corpus.stopwords.words('english')\n",
    "    return [token.lower() for token in tokens if token.isalpha() and token.lower() not in stopwords]"
   ]
  },
  {
   "cell_type": "code",
   "execution_count": 45,
   "metadata": {},
   "outputs": [],
   "source": [
    "tokenized_docs = [preprocess_text(text['text']) for text in texts]"
   ]
  },
  {
   "cell_type": "code",
   "execution_count": 46,
   "metadata": {},
   "outputs": [
    {
     "data": {
      "text/plain": [
       "['proceeding',\n",
       " 'fellow',\n",
       " 'citizens',\n",
       " 'qualification',\n",
       " 'constitution',\n",
       " 'requires',\n",
       " 'entrance',\n",
       " 'charge',\n",
       " 'conferred',\n",
       " 'duty']"
      ]
     },
     "execution_count": 46,
     "metadata": {},
     "output_type": "execute_result"
    }
   ],
   "source": [
    "tokenized_docs[4][:10]"
   ]
  },
  {
   "cell_type": "markdown",
   "metadata": {},
   "source": [
    "Odstránenie slov, ktoré sa v korpuse vyskytujú len raz"
   ]
  },
  {
   "cell_type": "code",
   "execution_count": 47,
   "metadata": {},
   "outputs": [],
   "source": [
    "from collections import defaultdict\n",
    "\n",
    "frequency = defaultdict(int)\n",
    "for text in tokenized_docs:\n",
    "    for token in text:\n",
    "        frequency[token] += 1\n",
    "\n",
    "tokenized_docs = [[token for token in doc if frequency[token] > 1] for doc in tokenized_docs]"
   ]
  },
  {
   "cell_type": "code",
   "execution_count": 48,
   "metadata": {},
   "outputs": [],
   "source": [
    "dictionary = corpora.Dictionary(tokenized_docs)"
   ]
  },
  {
   "cell_type": "code",
   "execution_count": 49,
   "metadata": {},
   "outputs": [
    {
     "name": "stdout",
     "output_type": "stream",
     "text": [
      "{'accomplished': 0, 'accordingly': 1, 'acknowledge': 2, 'act': 3, 'actual': 4, 'add': 5, 'addition': 6, 'addressed': 7, 'administration': 8, 'adopt': 9, 'advanced': 10, 'advancement': 11, 'advantage': 12, 'advantageously': 13, 'affairs': 14, 'affected': 15, 'affectionate': 16, 'affections': 17, 'agency': 18, 'aids': 19, 'allotted': 20, 'almighty': 21, 'along': 22, 'alteration': 23, 'american': 24, 'among': 25, 'animosities': 26, 'another': 27, 'anticipation': 28, 'anxieties': 29, 'appreciation': 30, 'ardent': 31, 'arduous': 32, 'arising': 33, 'article': 34, 'assemblage': 35, 'assembled': 36, 'assure': 37, 'attachments': 38, 'attention': 39, 'attributes': 40, 'author': 41, 'avoid': 42, 'await': 43, 'awakened': 44, 'benediction': 45, 'benefits': 46, 'benign': 47, 'besides': 48, 'birth': 49, 'blessing': 50, 'blessings': 51, 'bound': 52, 'brief': 53, 'brings': 54, 'call': 55, 'called': 56, 'care': 57, 'carefully': 58, 'character': 59, 'characters': 60, 'charge': 61, 'charter': 62, 'chosen': 63, 'circumstance': 64, 'circumstances': 65, 'citizens': 66, 'civil': 67, 'collect': 68, 'command': 69, 'commence': 70, 'committed': 71, 'communities': 72, 'compared': 73, 'compensation': 74, 'comprehensive': 75, 'concerns': 76, 'confidence': 77, 'conflict': 78, 'conscious': 79, 'consecrate': 80, 'consent': 81, 'consequences': 82, 'consideration': 83, 'considered': 84, 'consistent': 85, 'conspicuous': 86, 'constitution': 87, 'constitutional': 88, 'consultations': 89, 'contemplated': 90, 'continuance': 91, 'could': 92, 'councils': 93, 'country': 94, 'course': 95, 'crisis': 96, 'dare': 97, 'day': 98, 'dear': 99, 'decide': 100, 'deciding': 101, 'decision': 102, 'decline': 103, 'declining': 104, 'deeply': 105, 'defect': 106, 'deficiencies': 107, 'defining': 108, 'degree': 109, 'delegated': 110, 'deliberations': 111, 'departed': 112, 'department': 113, 'depend': 114, 'derived': 115, 'destiny': 116, 'devise': 117, 'difficulty': 118, 'dispositions': 119, 'distinct': 120, 'distinguished': 121, 'divine': 122, 'due': 123, 'duties': 124, 'duty': 125, 'dwell': 126, 'economy': 127, 'effective': 128, 'either': 129, 'emotions': 130, 'employed': 131, 'enable': 132, 'endanger': 133, 'enlarged': 134, 'entering': 135, 'entire': 136, 'entrusted': 137, 'equal': 138, 'equally': 139, 'error': 140, 'essential': 141, 'established': 142, 'establishing': 143, 'estimates': 144, 'eternal': 145, 'eve': 146, 'event': 147, 'every': 148, 'execute': 149, 'executing': 150, 'executive': 151, 'exemplified': 152, 'exercise': 153, 'exists': 154, 'expected': 155, 'expedient': 156, 'expenditures': 157, 'experience': 158, 'experienced': 159, 'experiment': 160, 'expresses': 161, 'eye': 162, 'faithful': 163, 'far': 164, 'favor': 165, 'feelings': 166, 'felicity': 167, 'fellow': 168, 'fervent': 169, 'filled': 170, 'finally': 171, 'fire': 172, 'first': 173, 'forced': 174, 'foregoing': 175, 'form': 176, 'former': 177, 'fortified': 178, 'foundation': 179, 'free': 180, 'freemen': 181, 'frequent': 182, 'functions': 183, 'future': 184, 'genuine': 185, 'give': 186, 'given': 187, 'good': 188, 'government': 189, 'governments': 190, 'gradual': 191, 'grateful': 192, 'gratitude': 193, 'great': 194, 'greater': 195, 'guided': 196, 'habit': 197, 'hand': 198, 'hands': 199, 'happiness': 200, 'harmony': 201, 'health': 202, 'hear': 203, 'heaven': 204, 'honest': 205, 'honorable': 206, 'honored': 207, 'hope': 208, 'hopes': 209, 'house': 210, 'human': 211, 'humble': 212, 'immutable': 213, 'imparted': 214, 'important': 215, 'impressions': 216, 'incapacity': 217, 'incident': 218, 'inclination': 219, 'included': 220, 'independent': 221, 'inferior': 222, 'influence': 223, 'inspire': 224, 'instance': 225, 'instances': 226, 'instead': 227, 'instituted': 228, 'instrument': 229, 'interests': 230, 'join': 231, 'judge': 232, 'judged': 233, 'judgment': 234, 'justly': 235, 'laid': 236, 'large': 237, 'latter': 238, 'leave': 239, 'less': 240, 'lessons': 241, 'liberties': 242, 'liberty': 243, 'life': 244, 'light': 245, 'lights': 246, 'limited': 247, 'little': 248, 'local': 249, 'love': 250, 'made': 251, 'magnanimous': 252, 'magnitude': 253, 'many': 254, 'maxims': 255, 'may': 256, 'means': 257, 'measures': 258, 'meet': 259, 'men': 260, 'might': 261, 'mind': 262, 'model': 263, 'month': 264, 'morality': 265, 'motives': 266, 'much': 267, 'must': 268, 'nation': 269, 'national': 270, 'nations': 271, 'nature': 272, 'necessary': 273, 'never': 274, 'new': 275, 'none': 276, 'obedience': 277, 'objections': 278, 'objects': 279, 'observations': 280, 'occasion': 281, 'occasional': 282, 'official': 283, 'one': 284, 'opportunities': 285, 'ordained': 286, 'order': 287, 'ordinary': 288, 'originated': 289, 'ought': 290, 'overwhelm': 291, 'parent': 292, 'partiality': 293, 'particular': 294, 'party': 295, 'past': 296, 'patriotism': 297, 'peculiarly': 298, 'pecuniary': 299, 'people': 300, 'perfect': 301, 'perhaps': 302, 'permanent': 303, 'personal': 304, 'persuaded': 305, 'place': 306, 'placed': 307, 'pleased': 308, 'pledges': 309, 'policy': 310, 'possible': 311, 'power': 312, 'powers': 313, 'pray': 314, 'prejudices': 315, 'presage': 316, 'present': 317, 'preservation': 318, 'president': 319, 'presides': 320, 'principles': 321, 'private': 322, 'proceedings': 323, 'produced': 324, 'promoted': 325, 'proof': 326, 'properly': 327, 'propitious': 328, 'prospect': 329, 'prosperity': 330, 'providential': 331, 'provision': 332, 'public': 333, 'pure': 334, 'purposes': 335, 'pursuit': 336, 'qualifications': 337, 'question': 338, 'race': 339, 'received': 340, 'recommend': 341, 'recommendation': 342, 'recommendations': 343, 'refer': 344, 'regard': 345, 'remain': 346, 'remembrance': 347, 'rendered': 348, 'representatives': 349, 'republican': 350, 'require': 351, 'required': 352, 'resolution': 353, 'resorting': 354, 'respect': 355, 'resulted': 356, 'retreat': 357, 'return': 358, 'reverence': 359, 'revolution': 360, 'rewards': 361, 'right': 362, 'rights': 363, 'rules': 364, 'sacred': 365, 'safely': 366, 'satisfaction': 367, 'scrutiny': 368, 'security': 369, 'seem': 370, 'seems': 371, 'selected': 372, 'senate': 373, 'sensibility': 374, 'sentiments': 375, 'separate': 376, 'service': 377, 'shall': 378, 'share': 379, 'side': 380, 'since': 381, 'smiles': 382, 'solid': 383, 'staked': 384, 'states': 385, 'station': 386, 'step': 387, 'still': 388, 'strongly': 389, 'struggle': 390, 'study': 391, 'subject': 392, 'submitted': 393, 'substitute': 394, 'success': 395, 'sufficient': 396, 'sufficiently': 397, 'summoned': 398, 'summons': 399, 'supplications': 400, 'supply': 401, 'suppressed': 402, 'surest': 403, 'swayed': 404, 'system': 405, 'take': 406, 'talents': 407, 'task': 408, 'temperate': 409, 'therefore': 410, 'thinking': 411, 'thoroughly': 412, 'thought': 413, 'thus': 414, 'time': 415, 'together': 416, 'tranquil': 417, 'tranquillity': 418, 'transcendent': 419, 'transmitted': 420, 'tribute': 421, 'trust': 422, 'truth': 423, 'unanimity': 424, 'undertaking': 425, 'union': 426, 'united': 427, 'universe': 428, 'unparalleled': 429, 'urged': 430, 'us': 431, 'veneration': 432, 'vicissitudes': 433, 'views': 434, 'virtue': 435, 'voice': 436, 'voluntary': 437, 'waste': 438, 'watch': 439, 'way': 440, 'weighty': 441, 'well': 442, 'whilst': 443, 'whose': 444, 'win': 445, 'wise': 446, 'wisest': 447, 'without': 448, 'world': 449, 'would': 450, 'years': 451, 'america': 452, 'ceremony': 453, 'chief': 454, 'endeavor': 455, 'entertain': 456, 'execution': 457, 'express': 458, 'found': 459, 'high': 460, 'honor': 461, 'incurring': 462, 'injunctions': 463, 'knowingly': 464, 'magistrate': 465, 'oath': 466, 'office': 467, 'presence': 468, 'previous': 469, 'proper': 470, 'punishment': 471, 'reposed': 472, 'requires': 473, 'sense': 474, 'solemn': 475, 'thereof': 476, 'upon': 477, 'violated': 478, 'willingly': 479, 'witnesses': 480, 'abandoned': 481, 'aboriginal': 482, 'abroad': 483, 'abuses': 484, 'according': 485, 'acquired': 486, 'actions': 487, 'adapted': 488, 'added': 489, 'admiration': 490, 'admitted': 491, 'adopted': 492, 'adoption': 493, 'age': 494, 'ages': 495, 'agriculture': 496, 'altered': 497, 'amiable': 498, 'amicable': 499, 'ancient': 500, 'angel': 501, 'animated': 502, 'anxiety': 503, 'anything': 504, 'apology': 505, 'appear': 506, 'appeared': 507, 'approbation': 508, 'ardor': 509, 'arise': 510, 'armies': 511, 'assembly': 512, 'assisted': 513, 'asunder': 514, 'attachment': 515, 'august': 516, 'authority': 517, 'become': 518, 'belligerent': 519, 'benevolence': 520, 'benevolent': 521, 'best': 522, 'better': 523, 'boast': 524, 'body': 525, 'bosom': 526, 'branches': 527, 'bulwark': 528, 'calamity': 529, 'candid': 530, 'cases': 531, 'cause': 532, 'caution': 533, 'certain': 534, 'certainly': 535, 'chains': 536, 'chance': 537, 'chiefly': 538, 'choice': 539, 'christianity': 540, 'christians': 541, 'cities': 542, 'citizen': 543, 'claiming': 544, 'claims': 545, 'classes': 546, 'colleges': 547, 'combinations': 548, 'commanded': 549, 'commerce': 550, 'common': 551, 'concerning': 552, 'concert': 553, 'condition': 554, 'conducting': 555, 'confederacies': 556, 'confederation': 557, 'conformable': 558, 'congress': 559, 'conscientious': 560, 'consider': 561, 'constant': 562, 'constituents': 563, 'constitutions': 564, 'contempt': 565, 'contests': 566, 'continue': 567, 'contributed': 568, 'convenience': 569, 'conviction': 570, 'corruption': 571, 'credit': 572, 'cut': 573, 'daily': 574, 'danger': 575, 'dangerous': 576, 'debate': 577, 'deceived': 578, 'decent': 579, 'defense': 580, 'delicacy': 581, 'delight': 582, 'demand': 583, 'deserve': 584, 'desire': 585, 'destinies': 586, 'destruction': 587, 'detail': 588, 'determination': 589, 'determine': 590, 'determined': 591, 'difference': 592, 'diffidence': 593, 'diligent': 594, 'discontents': 595, 'discouragement': 596, 'discussions': 597, 'disobedience': 598, 'disposition': 599, 'dissensions': 600, 'domestic': 601, 'doubt': 602, 'durable': 603, 'duration': 604, 'early': 605, 'earnest': 606, 'eastern': 607, 'effect': 608, 'effects': 609, 'effort': 610, 'eight': 611, 'elected': 612, 'election': 613, 'elections': 614, 'elective': 615, 'elevated': 616, 'encourage': 617, 'ends': 618, 'enemies': 619, 'energies': 620, 'energy': 621, 'enjoy': 622, 'enlightened': 623, 'entertained': 624, 'equaled': 625, 'equity': 626, 'establish': 627, 'esteem': 628, 'esteemed': 629, 'europe': 630, 'ever': 631, 'exalted': 632, 'example': 633, 'examples': 634, 'exercised': 635, 'exhibited': 636, 'existence': 637, 'expectations': 638, 'exposed': 639, 'expressed': 640, 'extensive': 641, 'extraneous': 642, 'facts': 643, 'fair': 644, 'faith': 645, 'fall': 646, 'feel': 647, 'felt': 648, 'fixed': 649, 'foreign': 650, 'forging': 651, 'formation': 652, 'formed': 653, 'formidable': 654, 'forms': 655, 'fortitude': 656, 'fortunes': 657, 'founded': 658, 'fountain': 659, 'frankly': 660, 'fraud': 661, 'french': 662, 'fresh': 663, 'friendly': 664, 'friends': 665, 'friendship': 666, 'frontier': 667, 'fruits': 668, 'full': 669, 'general': 670, 'genius': 671, 'glory': 672, 'go': 673, 'govern': 674, 'habitual': 675, 'half': 676, 'happy': 677, 'heads': 678, 'hearts': 679, 'helvetic': 680, 'hesitate': 681, 'hesitation': 682, 'highest': 683, 'history': 684, 'houses': 685, 'however': 686, 'humanity': 687, 'idea': 688, 'ideas': 689, 'imitation': 690, 'immortal': 691, 'impartial': 692, 'impartiality': 693, 'improve': 694, 'improvements': 695, 'inattention': 696, 'increasing': 697, 'indeed': 698, 'independence': 699, 'individual': 700, 'individuals': 701, 'inflexible': 702, 'information': 703, 'injunction': 704, 'injuries': 705, 'inquiry': 706, 'inspired': 707, 'institution': 708, 'institutions': 709, 'insure': 710, 'insurrection': 711, 'integrity': 712, 'intellectual': 713, 'intelligence': 714, 'intention': 715, 'intentions': 716, 'interest': 717, 'interesting': 718, 'interior': 719, 'internal': 720, 'intrigue': 721, 'inviolable': 722, 'iron': 723, 'jealousies': 724, 'judgments': 725, 'justice': 726, 'knowledge': 727, 'lands': 728, 'launched': 729, 'laws': 730, 'lay': 731, 'least': 732, 'legislature': 733, 'legislatures': 734, 'legitimate': 735, 'length': 736, 'letters': 737, 'lifted': 738, 'like': 739, 'live': 740, 'lives': 741, 'long': 742, 'lose': 743, 'loss': 744, 'lot': 745, 'maintain': 746, 'majestic': 747, 'majesty': 748, 'majority': 749, 'make': 750, 'mankind': 751, 'manufacturers': 752, 'manufactures': 753, 'melancholy': 754, 'mere': 755, 'middle': 756, 'midst': 757, 'mode': 758, 'moral': 759, 'name': 760, 'native': 761, 'natural': 762, 'navigation': 763, 'necessity': 764, 'negligence': 765, 'negotiation': 766, 'neighbors': 767, 'neutrality': 768, 'noble': 769, 'number': 770, 'object': 771, 'objection': 772, 'obligations': 773, 'obscured': 774, 'obtained': 775, 'occasions': 776, 'ocean': 777, 'often': 778, 'ones': 779, 'open': 780, 'opening': 781, 'operation': 782, 'opinion': 783, 'opinions': 784, 'ornament': 785, 'otherwise': 786, 'outlines': 787, 'overruling': 788, 'painful': 789, 'partial': 790, 'parties': 791, 'parts': 792, 'patron': 793, 'patronize': 794, 'peace': 795, 'periods': 796, 'plan': 797, 'pleasing': 798, 'pledged': 799, 'points': 800, 'political': 801, 'position': 802, 'posterity': 803, 'precision': 804, 'preference': 805, 'prepared': 806, 'prescribed': 807, 'presented': 808, 'preserve': 809, 'preserved': 810, 'preserving': 811, 'pretense': 812, 'pride': 813, 'principle': 814, 'produce': 815, 'profess': 816, 'profligacy': 817, 'promote': 818, 'promoting': 819, 'prompted': 820, 'proposed': 821, 'protected': 822, 'protector': 823, 'provide': 824, 'providence': 825, 'prudence': 826, 'purity': 827, 'pursue': 828, 'pursued': 829, 'rational': 830, 'read': 831, 'recommended': 832, 'reflected': 833, 'reflecting': 834, 'reflection': 835, 'regular': 836, 'regulated': 837, 'regulations': 838, 'relations': 839, 'religion': 840, 'relying': 841, 'remained': 842, 'remote': 843, 'remove': 844, 'represented': 845, 'resist': 846, 'resources': 847, 'respectable': 848, 'respectful': 849, 'result': 850, 'retirement': 851, 'returning': 852, 'revolutionary': 853, 'riches': 854, 'rule': 855, 'sagacious': 856, 'sanctioned': 857, 'sanguine': 858, 'saw': 859, 'say': 860, 'schools': 861, 'science': 862, 'seat': 863, 'secret': 864, 'secure': 865, 'secured': 866, 'see': 867, 'seen': 868, 'sentiment': 869, 'separation': 870, 'serious': 871, 'services': 872, 'seven': 873, 'sight': 874, 'signally': 875, 'silent': 876, 'sincere': 877, 'single': 878, 'situation': 879, 'society': 880, 'solemnly': 881, 'something': 882, 'soon': 883, 'southern': 884, 'speak': 885, 'spectacle': 886, 'spirit': 887, 'splendid': 888, 'springs': 889, 'stages': 890, 'state': 891, 'striking': 892, 'submission': 893, 'successors': 894, 'suffrage': 895, 'suggested': 896, 'superior': 897, 'supplying': 898, 'support': 899, 'supreme': 900, 'temperance': 901, 'temporary': 902, 'ten': 903, 'terror': 904, 'things': 905, 'threatening': 906, 'throughout': 907, 'ties': 908, 'times': 909, 'total': 910, 'toward': 911, 'transactions': 912, 'two': 913, 'uncertainty': 914, 'unexampled': 915, 'unfaithful': 916, 'universal': 917, 'universities': 918, 'unlimited': 919, 'unshaken': 920, 'usual': 921, 'utmost': 922, 'value': 923, 'various': 924, 'venture': 925, 'violence': 926, 'virtues': 927, 'virtuous': 928, 'vote': 929, 'war': 930, 'wealth': 931, 'welfare': 932, 'western': 933, 'whatever': 934, 'whole': 935, 'wish': 936, 'wishes': 937, 'year': 938, 'zeal': 939, 'abandon': 940, 'absolute': 941, 'acknowledging': 942, 'acquiescence': 943, 'acquisitions': 944, 'administrations': 945, 'advance': 946, 'advancing': 947, 'affection': 948, 'agitation': 949, 'alarm': 950, 'alliances': 951, 'alone': 952, 'amidst': 953, 'anchor': 954, 'angels': 955, 'animation': 956, 'announced': 957, 'answer': 958, 'antirepublican': 959, 'anxious': 960, 'appeal': 961, 'approach': 962, 'arrange': 963, 'ask': 964, 'aspect': 965, 'assigned': 966, 'associated': 967, 'attainment': 968, 'auspices': 969, 'authorities': 970, 'avail': 971, 'awful': 972, 'banished': 973, 'bar': 974, 'bear': 975, 'believe': 976, 'beloved': 977, 'bestowed': 978, 'beyond': 979, 'bitter': 980, 'blood': 981, 'bloody': 982, 'bread': 983, 'brethren': 984, 'bright': 985, 'bring': 986, 'capable': 987, 'change': 988, 'charged': 989, 'circle': 990, 'civic': 991, 'close': 992, 'combat': 993, 'compass': 994, 'competent': 995, 'comprehend': 996, 'concern': 997, 'condemn': 998, 'conflicting': 999, 'consciousness': 1000, 'consequently': 1001, 'consolation': 1002, 'constellation': 1003, 'contemplate': 1004, 'contemplation': 1005, 'contest': 1006, 'contrary': 1007, 'corrective': 1008, 'countenance': 1009, 'courage': 1010, 'creed': 1011, 'debts': 1012, 'decided': 1013, 'decisions': 1014, 'declare': 1015, 'deem': 1016, 'descendants': 1017, 'despair': 1018, 'despotism': 1019, 'destined': 1020, 'devoted': 1021, 'different': 1022, 'difficulties': 1023, 'diffusion': 1024, 'disciplined': 1025, 'dispensations': 1026, 'dissolve': 1027, 'distant': 1028, 'divide': 1029, 'earned': 1030, 'earth': 1031, 'efforts': 1032, 'elements': 1033, 'encouragement': 1034, 'endure': 1035, 'engaged': 1036, 'enough': 1037, 'entangling': 1038, 'enter': 1039, 'entitled': 1040, 'errors': 1041, 'even': 1042, 'everything': 1043, 'exact': 1044, 'exertions': 1045, 'expect': 1046, 'expense': 1047, 'faculties': 1048, 'favorable': 1049, 'fear': 1050, 'feared': 1051, 'federal': 1052, 'find': 1053, 'firm': 1054, 'firmness': 1055, 'fly': 1056, 'force': 1057, 'forget': 1058, 'freedom': 1059, 'freely': 1060, 'frugal': 1061, 'fruitful': 1062, 'gained': 1063, 'generation': 1064, 'globe': 1065, 'gone': 1066, 'greatest': 1067, 'greatness': 1068, 'ground': 1069, 'guidance': 1070, 'hasten': 1071, 'heart': 1072, 'hereafter': 1073, 'heroes': 1074, 'home': 1075, 'honesty': 1076, 'immediate': 1077, 'impartially': 1078, 'imperfect': 1079, 'implied': 1080, 'impose': 1081, 'improvement': 1082, 'inculcating': 1083, 'indulgence': 1084, 'industry': 1085, 'infinite': 1086, 'injuring': 1087, 'instruction': 1088, 'instrumental': 1089, 'intercourse': 1090, 'intolerance': 1091, 'invasions': 1092, 'issue': 1093, 'jealous': 1094, 'juries': 1095, 'kept': 1096, 'kindly': 1097, 'kings': 1098, 'know': 1099, 'labor': 1100, 'land': 1101, 'law': 1102, 'lead': 1103, 'leads': 1104, 'left': 1105, 'legal': 1106, 'legislation': 1107, 'let': 1108, 'limitations': 1109, 'look': 1110, 'lost': 1111, 'man': 1112, 'mild': 1113, 'military': 1114, 'militia': 1115, 'minded': 1116, 'minority': 1117, 'moments': 1118, 'monuments': 1119, 'mortal': 1120, 'names': 1121, 'narrowest': 1122, 'offices': 1123, 'oppression': 1124, 'others': 1125, 'page': 1126, 'passed': 1127, 'patriot': 1128, 'patronage': 1129, 'payment': 1130, 'peaceful': 1131, 'person': 1132, 'persuasion': 1133, 'portion': 1134, 'positions': 1135, 'possess': 1136, 'possessing': 1137, 'possibility': 1138, 'post': 1139, 'practiced': 1140, 'preeminent': 1141, 'press': 1142, 'pretensions': 1143, 'prevail': 1144, 'productions': 1145, 'professed': 1146, 'prosperous': 1147, 'protect': 1148, 'protection': 1149, 'proves': 1150, 'provided': 1151, 'pursuits': 1152, 'quarter': 1153, 'rapidly': 1154, 'rarely': 1155, 'reach': 1156, 'ready': 1157, 'reason': 1158, 'reasonable': 1159, 'reflect': 1160, 'reformation': 1161, 'regulate': 1162, 'reliance': 1163, 'relieve': 1164, 'religious': 1165, 'rely': 1166, 'remedies': 1167, 'remind': 1168, 'repair': 1169, 'representative': 1170, 'republicans': 1171, 'republics': 1172, 'reputation': 1173, 'restore': 1174, 'restrain': 1175, 'resulting': 1176, 'retain': 1177, 'retire': 1178, 'rich': 1179, 'rightful': 1180, 'rising': 1181, 'road': 1182, 'room': 1183, 'safe': 1184, 'safety': 1185, 'sages': 1186, 'said': 1187, 'seas': 1188, 'seeking': 1189, 'sensible': 1190, 'separated': 1191, 'shape': 1192, 'sheet': 1193, 'shore': 1194, 'shrink': 1195, 'social': 1196, 'solicitude': 1197, 'sometimes': 1198, 'sovereign': 1199, 'spread': 1200, 'stand': 1201, 'standard': 1202, 'stating': 1203, 'steps': 1204, 'strangers': 1205, 'strong': 1206, 'strongest': 1207, 'subordinate': 1208, 'successful': 1209, 'suffered': 1210, 'sum': 1211, 'supremacy': 1212, 'sword': 1213, 'tendencies': 1214, 'thanks': 1215, 'thing': 1216, 'think': 1217, 'though': 1218, 'thousandth': 1219, 'tide': 1220, 'till': 1221, 'tolerated': 1222, 'trial': 1223, 'troubled': 1224, 'trusted': 1225, 'try': 1226, 'understand': 1227, 'undertake': 1228, 'undisturbed': 1229, 'unite': 1230, 'unused': 1231, 'use': 1232, 'utterly': 1233, 'valuable': 1234, 'view': 1235, 'vigor': 1236, 'violate': 1237, 'vital': 1238, 'volume': 1239, 'wander': 1240, 'want': 1241, 'weakness': 1242, 'whenever': 1243, 'wicked': 1244, 'wide': 1245, 'wisdom': 1246, 'within': 1247, 'wonderful': 1248, 'work': 1249, 'worn': 1250, 'write': 1251, 'wrong': 1252, 'yet': 1253, 'able': 1254, 'acknowledged': 1255, 'acquisition': 1256, 'acted': 1257, 'action': 1258, 'adds': 1259, 'administer': 1260, 'advances': 1261, 'aegis': 1262, 'afford': 1263, 'aggressors': 1264, 'aided': 1265, 'already': 1266, 'also': 1267, 'amendment': 1268, 'amount': 1269, 'ancestors': 1270, 'applied': 1271, 'apply': 1272, 'apprehension': 1273, 'approve': 1274, 'approved': 1275, 'armaments': 1276, 'around': 1277, 'articles': 1278, 'artillery': 1279, 'arts': 1280, 'association': 1281, 'astray': 1282, 'auxiliaries': 1283, 'awaits': 1284, 'bank': 1285, 'bears': 1286, 'begun': 1287, 'believed': 1288, 'believes': 1289, 'benefit': 1290, 'bigotry': 1291, 'bodies': 1292, 'calculated': 1293, 'canals': 1294, 'cherish': 1295, 'cherished': 1296, 'children': 1297, 'church': 1298, 'collected': 1299, 'comforts': 1300, 'commonwealth': 1301, 'complete': 1302, 'conduct': 1303, 'conferred': 1304, 'confined': 1305, 'conscience': 1306, 'consolatory': 1307, 'consumption': 1308, 'contemplating': 1309, 'contend': 1310, 'contributions': 1311, 'control': 1312, 'convinced': 1313, 'cool': 1314, 'correct': 1315, 'corrected': 1316, 'corresponding': 1317, 'counsel': 1318, 'counteraction': 1319, 'countries': 1320, 'covered': 1321, 'creator': 1322, 'cultivate': 1323, 'cultivated': 1324, 'current': 1325, 'customs': 1326, 'declaration': 1327, 'declared': 1328, 'deep': 1329, 'defamation': 1330, 'definite': 1331, 'demoralizing': 1332, 'dictates': 1333, 'directed': 1334, 'direction': 1335, 'discipline': 1336, 'discretion': 1337, 'discussion': 1338, 'disturb': 1339, 'done': 1340, 'doors': 1341, 'drawn': 1342, 'dread': 1343, 'driven': 1344, 'education': 1345, 'effected': 1346, 'effectively': 1347, 'enabled': 1348, 'encounter': 1349, 'encroaching': 1350, 'endeavors': 1351, 'endowed': 1352, 'enforced': 1353, 'enjoins': 1354, 'enlargement': 1355, 'enlighten': 1356, 'entered': 1357, 'equality': 1358, 'especially': 1359, 'establishments': 1360, 'events': 1361, 'exercises': 1362, 'exert': 1363, 'expenses': 1364, 'extend': 1365, 'extension': 1366, 'extent': 1367, 'extinguish': 1368, 'fact': 1369, 'fairly': 1370, 'false': 1371, 'falsehood': 1372, 'family': 1373, 'farmer': 1374, 'fate': 1375, 'father': 1376, 'fathers': 1377, 'favored': 1378, 'federative': 1379, 'final': 1380, 'firmly': 1381, 'fold': 1382, 'follow': 1383, 'foundations': 1384, 'friend': 1385, 'frontiers': 1386, 'fulfill': 1387, 'fully': 1388, 'functionaries': 1389, 'furnished': 1390, 'gaining': 1391, 'gather': 1392, 'gathered': 1393, 'generally': 1394, 'generations': 1395, 'gives': 1396, 'giving': 1397, 'goodness': 1398, 'guide': 1399, 'habits': 1400, 'heretofore': 1401, 'honestly': 1402, 'household': 1403, 'husbandry': 1404, 'ignorance': 1405, 'ill': 1406, 'implements': 1407, 'import': 1408, 'improving': 1409, 'income': 1410, 'inconvenient': 1411, 'incorporated': 1412, 'increased': 1413, 'inculcate': 1414, 'indignation': 1415, 'induce': 1416, 'inestimable': 1417, 'infancy': 1418, 'inference': 1419, 'inhabitants': 1420, 'injurious': 1421, 'injustice': 1422, 'innovation': 1423, 'inseparable': 1424, 'inspires': 1425, 'intended': 1426, 'interested': 1427, 'keep': 1428, 'keeping': 1429, 'larger': 1430, 'latent': 1431, 'lawful': 1432, 'league': 1433, 'led': 1434, 'legislative': 1435, 'lessen': 1436, 'liberally': 1437, 'liberated': 1438, 'licentiousness': 1439, 'likely': 1440, 'limit': 1441, 'limits': 1442, 'line': 1443, 'looked': 1444, 'louisiana': 1445, 'luxuries': 1446, 'maintained': 1447, 'mandates': 1448, 'manifested': 1449, 'mass': 1450, 'matters': 1451, 'mean': 1452, 'meantime': 1453, 'mechanic': 1454, 'mercantile': 1455, 'merit': 1456, 'minds': 1457, 'minor': 1458, 'mississippi': 1459, 'morals': 1460, 'mutual': 1461, 'narrow': 1462, 'necessaries': 1463, 'need': 1464, 'needs': 1465, 'nothing': 1466, 'obeying': 1467, 'obstacles': 1468, 'obvious': 1469, 'occupying': 1470, 'offer': 1471, 'officers': 1472, 'old': 1473, 'operate': 1474, 'outrages': 1475, 'overwhelmed': 1476, 'paid': 1477, 'passion': 1478, 'passions': 1479, 'path': 1480, 'patient': 1481, 'pay': 1482, 'perilous': 1483, 'persons': 1484, 'physical': 1485, 'places': 1486, 'planted': 1487, 'pleasure': 1488, 'point': 1489, 'population': 1490, 'possibly': 1491, 'powerful': 1492, 'prepare': 1493, 'prescribe': 1494, 'proceed': 1495, 'proceeding': 1496, 'process': 1497, 'progress': 1498, 'property': 1499, 'prosper': 1500, 'prove': 1501, 'qualification': 1502, 'reaching': 1503, 'recourse': 1504, 'redemption': 1505, 'reduced': 1506, 'reforming': 1507, 'regarded': 1508, 'regions': 1509, 'remaining': 1510, 'remains': 1511, 'replace': 1512, 'reserved': 1513, 'resolve': 1514, 'restrained': 1515, 'restraint': 1516, 'results': 1517, 'revenue': 1518, 'rivers': 1519, 'roads': 1520, 'salutary': 1521, 'satisfied': 1522, 'satisfy': 1523, 'scarcely': 1524, 'scene': 1525, 'seaboard': 1526, 'sees': 1527, 'select': 1528, 'servants': 1529, 'served': 1530, 'settled': 1531, 'several': 1532, 'shaken': 1533, 'shores': 1534, 'short': 1535, 'societies': 1536, 'soil': 1537, 'sought': 1538, 'sound': 1539, 'source': 1540, 'strength': 1541, 'strengthen': 1542, 'successively': 1543, 'suited': 1544, 'supplement': 1545, 'suppression': 1546, 'surplus': 1547, 'taking': 1548, 'taxes': 1549, 'teach': 1550, 'tend': 1551, 'terms': 1552, 'territory': 1553, 'thereby': 1554, 'transaction': 1555, 'tried': 1556, 'true': 1557, 'unaided': 1558, 'understanding': 1559, 'undertaken': 1560, 'unequal': 1561, 'unnecessary': 1562, 'unwilling': 1563, 'urgent': 1564, 'useful': 1565, 'usefulness': 1566, 'useless': 1567, 'verdict': 1568, 'wars': 1569, 'weaknesses': 1570, 'weight': 1571, 'whatsoever': 1572, 'whether': 1573, 'wholesome': 1574, 'witness': 1575, 'witnessed': 1576, 'word': 1577, 'works': 1578, 'written': 1579, 'address': 1580, 'aid': 1581, 'always': 1582, 'anticipated': 1583, 'arbitrary': 1584, 'armed': 1585, 'arms': 1586, 'assumed': 1587, 'attained': 1588, 'attempt': 1589, 'authorized': 1590, 'baneful': 1591, 'basis': 1592, 'behalf': 1593, 'benedictions': 1594, 'candor': 1595, 'career': 1596, 'carry': 1597, 'cement': 1598, 'civilized': 1599, 'conspicuously': 1600, 'continued': 1601, 'contrast': 1602, 'correspondent': 1603, 'counsels': 1604, 'debt': 1605, 'degradation': 1606, 'degrading': 1607, 'deliberate': 1608, 'depart': 1609, 'departments': 1610, 'devotion': 1611, 'differences': 1612, 'direct': 1613, 'discharge': 1614, 'dispensed': 1615, 'encouraged': 1616, 'enhanced': 1617, 'enjoyed': 1618, 'enjoys': 1619, 'enterprises': 1620, 'entitle': 1621, 'everywhere': 1622, 'exclude': 1623, 'existing': 1624, 'external': 1625, 'face': 1626, 'fail': 1627, 'fallen': 1628, 'firmest': 1629, 'fortune': 1630, 'foster': 1631, 'fulfillment': 1632, 'gratefully': 1633, 'growth': 1634, 'guardianship': 1635, 'height': 1636, 'hold': 1637, 'illustrious': 1638, 'impelled': 1639, 'increase': 1640, 'indulge': 1641, 'interference': 1642, 'intrigues': 1643, 'introduced': 1644, 'involuntary': 1645, 'jurisdiction': 1646, 'liberal': 1647, 'liberate': 1648, 'lighted': 1649, 'maintenance': 1650, 'manner': 1651, 'marched': 1652, 'mark': 1653, 'moment': 1654, 'moreover': 1655, 'multiplying': 1656, 'neutral': 1657, 'next': 1658, 'observe': 1659, 'observing': 1660, 'parallel': 1661, 'pardoned': 1662, 'participation': 1663, 'peculiar': 1664, 'period': 1665, 'plans': 1666, 'pledge': 1667, 'precious': 1668, 'predecessor': 1669, 'prefer': 1670, 'pressure': 1671, 'pretext': 1672, 'profound': 1673, 'proofs': 1674, 'proud': 1675, 'provisions': 1676, 'questioned': 1677, 'reducing': 1678, 'remembering': 1679, 'repose': 1680, 'representing': 1681, 'republic': 1682, 'requisite': 1683, 'resource': 1684, 'responsibility': 1685, 'revered': 1686, 'reward': 1687, 'safeguards': 1688, 'sanctions': 1689, 'savage': 1690, 'scrupulous': 1691, 'sink': 1692, 'slightest': 1693, 'solemnity': 1694, 'spite': 1695, 'standing': 1696, 'successfully': 1697, 'surrender': 1698, 'susceptible': 1699, 'sympathy': 1700, 'trained': 1701, 'transition': 1702, 'tread': 1703, 'trying': 1704, 'unrivaled': 1705, 'unworthy': 1706, 'wisely': 1707, 'zealously': 1708, 'adversary': 1709, 'amply': 1710, 'arguments': 1711, 'arrest': 1712, 'associates': 1713, 'attempts': 1714, 'authors': 1715, 'battle': 1716, 'belong': 1717, 'belonging': 1718, 'brave': 1719, 'breaking': 1720, 'british': 1721, 'burden': 1722, 'cabinet': 1723, 'capacity': 1724, 'captives': 1725, 'carried': 1726, 'carrying': 1727, 'circulation': 1728, 'class': 1729, 'clouds': 1730, 'compelled': 1731, 'compelling': 1732, 'composed': 1733, 'confederated': 1734, 'conquering': 1735, 'costly': 1736, 'courtesy': 1737, 'cruel': 1738, 'dead': 1739, 'death': 1740, 'degenerate': 1741, 'delayed': 1742, 'destroying': 1743, 'development': 1744, 'dismember': 1745, 'diverting': 1746, 'eager': 1747, 'earliest': 1748, 'element': 1749, 'enemy': 1750, 'enterprise': 1751, 'evidence': 1752, 'excite': 1753, 'exhausted': 1754, 'exploits': 1755, 'facility': 1756, 'favorably': 1757, 'feature': 1758, 'fight': 1759, 'fighting': 1760, 'finish': 1761, 'followed': 1762, 'forbidding': 1763, 'gallant': 1764, 'generous': 1765, 'happily': 1766, 'heroic': 1767, 'imposed': 1768, 'infringed': 1769, 'inherent': 1770, 'instruments': 1771, 'intelligent': 1772, 'invites': 1773, 'knew': 1774, 'last': 1775, 'liable': 1776, 'liberality': 1777, 'longer': 1778, 'maimed': 1779, 'manifestations': 1780, 'manly': 1781, 'mariners': 1782, 'massacre': 1783, 'member': 1784, 'metals': 1785, 'modes': 1786, 'momentous': 1787, 'naturalization': 1788, 'naval': 1789, 'occupations': 1790, 'officer': 1791, 'opportunity': 1792, 'origin': 1793, 'paint': 1794, 'part': 1795, 'permitting': 1796, 'perpetuating': 1797, 'positive': 1798, 'poured': 1799, 'practice': 1800, 'precept': 1801, 'precise': 1802, 'presenting': 1803, 'presumption': 1804, 'prisoners': 1805, 'prominent': 1806, 'proved': 1807, 'punish': 1808, 'purpose': 1809, 'rank': 1810, 'rapid': 1811, 'reality': 1812, 'refused': 1813, 'regaining': 1814, 'reluctance': 1815, 'render': 1816, 'renewed': 1817, 'repeated': 1818, 'resort': 1819, 'retained': 1820, 'sacrifices': 1821, 'second': 1822, 'severe': 1823, 'sides': 1824, 'sovereignty': 1825, 'stake': 1826, 'strengthened': 1827, 'struggles': 1828, 'successive': 1829, 'suffering': 1830, 'sufferings': 1831, 'sure': 1832, 'surpassed': 1833, 'sympathies': 1834, 'systematic': 1835, 'taken': 1836, 'termination': 1837, 'thirst': 1838, 'thousands': 1839, 'threatened': 1840, 'title': 1841, 'torture': 1842, 'triumphs': 1843, 'troops': 1844, 'unavoidable': 1845, 'unconquerable': 1846, 'undermine': 1847, 'usage': 1848, 'valor': 1849, 'vanquished': 1850, 'vessels': 1851, 'victory': 1852, 'visible': 1853, 'wanting': 1854, 'warfare': 1855, 'wonder': 1856, 'wrongs': 1857, 'abundant': 1858, 'accessible': 1859, 'accomplish': 1860, 'accomplishing': 1861, 'accord': 1862, 'account': 1863, 'activity': 1864, 'additional': 1865, 'adequate': 1866, 'administered': 1867, 'admit': 1868, 'admonish': 1869, 'admonition': 1870, 'advantages': 1871, 'adverse': 1872, 'affecting': 1873, 'afforded': 1874, 'agents': 1875, 'agitated': 1876, 'agricultural': 1877, 'almost': 1878, 'annoyance': 1879, 'anyone': 1880, 'application': 1881, 'approached': 1882, 'approaching': 1883, 'army': 1884, 'arrangement': 1885, 'arrangements': 1886, 'ascertained': 1887, 'asked': 1888, 'assume': 1889, 'atlantic': 1890, 'attain': 1891, 'attended': 1892, 'attending': 1893, 'auxiliary': 1894, 'became': 1895, 'beneficent': 1896, 'bind': 1897, 'blessed': 1898, 'branch': 1899, 'break': 1900, 'brought': 1901, 'burdens': 1902, 'calamities': 1903, 'calling': 1904, 'campaign': 1905, 'capital': 1906, 'carriers': 1907, 'case': 1908, 'causes': 1909, 'characterize': 1910, 'choose': 1911, 'civilization': 1912, 'claim': 1913, 'climate': 1914, 'cling': 1915, 'closely': 1916, 'closest': 1917, 'coast': 1918, 'comfort': 1919, 'commencement': 1920, 'commencing': 1921, 'communicate': 1922, 'community': 1923, 'compact': 1924, 'competency': 1925, 'competition': 1926, 'completely': 1927, 'conflicts': 1928, 'connected': 1929, 'considerations': 1930, 'constituent': 1931, 'constitute': 1932, 'containing': 1933, 'contains': 1934, 'contribute': 1935, 'crime': 1936, 'dangers': 1937, 'defects': 1938, 'deficiency': 1939, 'degrees': 1940, 'dependent': 1941, 'depends': 1942, 'deprived': 1943, 'derive': 1944, 'deserving': 1945, 'destructive': 1946, 'dictated': 1947, 'dignity': 1948, 'diminish': 1949, 'disbursement': 1950, 'discord': 1951, 'displayed': 1952, 'disregard': 1953, 'distance': 1954, 'distress': 1955, 'domain': 1956, 'duly': 1957, 'easily': 1958, 'easy': 1959, 'educated': 1960, 'efficiency': 1961, 'elapsed': 1962, 'emergency': 1963, 'eminent': 1964, 'emphatically': 1965, 'encountered': 1966, 'engine': 1967, 'enhance': 1968, 'enjoyment': 1969, 'essentially': 1970, 'establishment': 1971, 'estimate': 1972, 'examination': 1973, 'excellence': 1974, 'exercising': 1975, 'exhibit': 1976, 'exist': 1977, 'expand': 1978, 'explain': 1979, 'expose': 1980, 'expressing': 1981, 'expression': 1982, 'extended': 1983, 'extending': 1984, 'extraordinary': 1985, 'facilities': 1986, 'features': 1987, 'feeling': 1988, 'fertile': 1989, 'fidelity': 1990, 'finished': 1991, 'fisheries': 1992, 'flourishing': 1993, 'foe': 1994, 'following': 1995, 'footing': 1996, 'forces': 1997, 'fortifications': 1998, 'fortunate': 1999, 'forty': 2000, 'fostered': 2001, 'fostering': 2002, 'fraught': 2003, 'fruit': 2004, 'fullest': 2005, 'gracious': 2006, 'grand': 2007, 'gratification': 2008, 'gratifying': 2009, 'guarded': 2010, 'happier': 2011, 'held': 2012, 'highly': 2013, 'holds': 2014, 'ignorant': 2015, 'impairing': 2016, 'importance': 2017, 'improved': 2018, 'indian': 2019, 'indispensable': 2020, 'individually': 2021, 'inducement': 2022, 'inevitable': 2023, 'inflicted': 2024, 'injury': 2025, 'inland': 2026, 'instructive': 2027, 'intimately': 2028, 'intrusted': 2029, 'invasion': 2030, 'involved': 2031, 'joy': 2032, 'kind': 2033, 'kindness': 2034, 'known': 2035, 'lakes': 2036, 'late': 2037, 'leaving': 2038, 'lie': 2039, 'likewise': 2040, 'maintaining': 2041, 'makes': 2042, 'making': 2043, 'marked': 2044, 'market': 2045, 'markets': 2046, 'materials': 2047, 'menace': 2048, 'moderate': 2049, 'modern': 2050, 'money': 2051, 'motion': 2052, 'naturally': 2053, 'navy': 2054, 'near': 2055, 'necessities': 2056, 'north': 2057, 'obtain': 2058, 'offering': 2059, 'oppressive': 2060, 'organization': 2061, 'organized': 2062, 'original': 2063, 'overwhelming': 2064, 'pacific': 2065, 'particularly': 2066, 'pass': 2067, 'perfection': 2068, 'perform': 2069, 'persevere': 2070, 'portions': 2071, 'practicable': 2072, 'prayers': 2073, 'preceded': 2074, 'preparation': 2075, 'presume': 2076, 'presumed': 2077, 'price': 2078, 'principal': 2079, 'production': 2080, 'productive': 2081, 'profitable': 2082, 'promptly': 2083, 'proportion': 2084, 'protects': 2085, 'put': 2086, 'questions': 2087, 'raised': 2088, 'raw': 2089, 'reared': 2090, 'recognized': 2091, 'reflects': 2092, 'relates': 2093, 'remedy': 2094, 'resisted': 2095, 'respective': 2096, 'respectively': 2097, 'respects': 2098, 'responsible': 2099, 'ruin': 2100, 'sanction': 2101, 'satisfactory': 2102, 'saving': 2103, 'seamen': 2104, 'self': 2105, 'seriously': 2106, 'settlements': 2107, 'shed': 2108, 'shown': 2109, 'situated': 2110, 'slow': 2111, 'sources': 2112, 'speedy': 2113, 'spheres': 2114, 'stations': 2115, 'steady': 2116, 'strictly': 2117, 'sudden': 2118, 'suffrages': 2119, 'supplies': 2120, 'supports': 2121, 'sustain': 2122, 'sustained': 2123, 'term': 2124, 'terminated': 2125, 'test': 2126, 'thorough': 2127, 'thousand': 2128, 'tone': 2129, 'traced': 2130, 'treason': 2131, 'treasury': 2132, 'treaty': 2133, 'trials': 2134, 'tribes': 2135, 'turn': 2136, 'twenty': 2137, 'unexpected': 2138, 'unfavorable': 2139, 'unreasonable': 2140, 'unsought': 2141, 'usurpation': 2142, 'vacant': 2143, 'variance': 2144, 'vast': 2145, 'venerated': 2146, 'viewed': 2147, 'wants': 2148, 'watchful': 2149, 'willing': 2150, 'willingness': 2151, 'zealous': 2152, 'ability': 2153, 'accepted': 2154, 'acts': 2155, 'adjusted': 2156, 'admonished': 2157, 'advantageous': 2158, 'advisable': 2159, 'affect': 2160, 'affords': 2161, 'ago': 2162, 'agreement': 2163, 'alike': 2164, 'altogether': 2165, 'amity': 2166, 'anticipate': 2167, 'appeals': 2168, 'appears': 2169, 'apprehend': 2170, 'argument': 2171, 'arisen': 2172, 'astonishing': 2173, 'attached': 2174, 'attack': 2175, 'attainments': 2176, 'attitude': 2177, 'augmentation': 2178, 'augmented': 2179, 'back': 2180, 'band': 2181, 'bearing': 2182, 'belongs': 2183, 'benefactors': 2184, 'board': 2185, 'boundary': 2186, 'britain': 2187, 'burthen': 2188, 'came': 2189, 'cease': 2190, 'ceded': 2191, 'changing': 2192, 'checks': 2193, 'city': 2194, 'claimed': 2195, 'clearly': 2196, 'colonies': 2197, 'commanding': 2198, 'commenced': 2199, 'commercial': 2200, 'communicated': 2201, 'comparative': 2202, 'completed': 2203, 'conciliation': 2204, 'concluded': 2205, 'conclusion': 2206, 'conclusive': 2207, 'condemned': 2208, 'conditions': 2209, 'consequence': 2210, 'considerable': 2211, 'considering': 2212, 'constantly': 2213, 'construction': 2214, 'continent': 2215, 'convention': 2216, 'correctly': 2217, 'covers': 2218, 'creation': 2219, 'crimes': 2220, 'croix': 2221, 'crush': 2222, 'cure': 2223, 'decisive': 2224, 'defrayed': 2225, 'demands': 2226, 'demonstrated': 2227, 'depending': 2228, 'depression': 2229, 'destroyed': 2230, 'details': 2231, 'dimensions': 2232, 'diminished': 2233, 'dispute': 2234, 'distinction': 2235, 'division': 2236, 'dominions': 2237, 'draw': 2238, 'dreaded': 2239, 'effectual': 2240, 'efficient': 2241, 'elsewhere': 2242, 'eminently': 2243, 'end': 2244, 'enforce': 2245, 'engineers': 2246, 'equivalent': 2247, 'evil': 2248, 'exception': 2249, 'exchanged': 2250, 'excises': 2251, 'excited': 2252, 'exclusively': 2253, 'executed': 2254, 'exigencies': 2255, 'exigency': 2256, 'expiration': 2257, 'explanation': 2258, 'finds': 2259, 'five': 2260, 'flame': 2261, 'flattered': 2262, 'florida': 2263, 'floridas': 2264, 'forbids': 2265, 'foresee': 2266, 'forthwith': 2267, 'four': 2268, 'france': 2269, 'front': 2270, 'funds': 2271, 'god': 2272, 'governed': 2273, 'granted': 2274, 'gulf': 2275, 'harbors': 2276, 'hostility': 2277, 'identified': 2278, 'illegal': 2279, 'illustrated': 2280, 'immediately': 2281, 'immense': 2282, 'imposes': 2283, 'imposing': 2284, 'impossible': 2285, 'imposts': 2286, 'impressed': 2287, 'incumbent': 2288, 'incurred': 2289, 'indicating': 2290, 'inexhaustible': 2291, 'infant': 2292, 'injure': 2293, 'intends': 2294, 'interfered': 2295, 'interfering': 2296, 'interpretation': 2297, 'invaded': 2298, 'invariably': 2299, 'invited': 2300, 'island': 2301, 'judiciously': 2302, 'july': 2303, 'kinds': 2304, 'knowing': 2305, 'largest': 2306, 'lately': 2307, 'loans': 2308, 'magnanimity': 2309, 'managed': 2310, 'manhood': 2311, 'measure': 2312, 'memory': 2313, 'menaced': 2314, 'menacing': 2315, 'mexico': 2316, 'mitigate': 2317, 'modified': 2318, 'months': 2319, 'movement': 2320, 'movements': 2321, 'munitions': 2322, 'nearly': 2323, 'neighboring': 2324, 'nobility': 2325, 'numbers': 2326, 'observed': 2327, 'occur': 2328, 'occurrences': 2329, 'opposition': 2330, 'oppress': 2331, 'orders': 2332, 'outline': 2333, 'outset': 2334, 'overthrow': 2335, 'paris': 2336, 'passage': 2337, 'patriotic': 2338, 'perils': 2339, 'permit': 2340, 'permitted': 2341, 'perpetual': 2342, 'ports': 2343, 'preceding': 2344, 'predecessors': 2345, 'preeminently': 2346, 'preparations': 2347, 'prevailed': 2348, 'prevent': 2349, 'prices': 2350, 'privilege': 2351, 'probable': 2352, 'prohibiting': 2353, 'promptitude': 2354, 'province': 2355, 'purchase': 2356, 'pursuing': 2357, 'rather': 2358, 'ratifications': 2359, 'ratified': 2360, 'real': 2361, 'realized': 2362, 'recent': 2363, 'recollected': 2364, 'recur': 2365, 'recurrence': 2366, 'redress': 2367, 'reelection': 2368, 'regarding': 2369, 'regulating': 2370, 'regulation': 2371, 'relief': 2372, 'remedied': 2373, 'repeal': 2374, 'repealed': 2375, 'repel': 2376, 'report': 2377, 'resolved': 2378, 'resorted': 2379, 'respecting': 2380, 'restraints': 2381, 'review': 2382, 'revived': 2383, 'river': 2384, 'sabine': 2385, 'sacrifice': 2386, 'save': 2387, 'sea': 2388, 'season': 2389, 'secures': 2390, 'seek': 2391, 'seldom': 2392, 'send': 2393, 'session': 2394, 'ships': 2395, 'shortly': 2396, 'shunned': 2397, 'six': 2398, 'size': 2399, 'slave': 2400, 'small': 2401, 'south': 2402, 'spain': 2403, 'st': 2404, 'stability': 2405, 'stage': 2406, 'steadily': 2407, 'streams': 2408, 'strict': 2409, 'strictest': 2410, 'substantial': 2411, 'succeeding': 2412, 'suffer': 2413, 'suggest': 2414, 'suitable': 2415, 'supported': 2416, 'surmount': 2417, 'sworn': 2418, 'tax': 2419, 'taxation': 2420, 'terminate': 2421, 'territories': 2422, 'thirty': 2423, 'took': 2424, 'touching': 2425, 'trade': 2426, 'transferred': 2427, 'transitory': 2428, 'treated': 2429, 'tribe': 2430, 'tribunals': 2431, 'unceasing': 2432, 'unconnected': 2433, 'unless': 2434, 'unsettled': 2435, 'upright': 2436, 'urge': 2437, 'utter': 2438, 'vain': 2439, 'vested': 2440, 'violation': 2441, 'vitals': 2442, 'waters': 2443, 'west': 2444, 'westward': 2445, 'withdraw': 2446, 'worst': 2447, 'yield': 2448, 'abuse': 2449, 'accountability': 2450, 'acquainted': 2451, 'addressing': 2452, 'administrative': 2453, 'affording': 2454, 'african': 2455, 'aged': 2456, 'agreed': 2457, 'allayed': 2458, 'alleviate': 2459, 'alluring': 2460, 'annals': 2461, 'apt': 2462, 'aspirations': 2463, 'assistance': 2464, 'attend': 2465, 'away': 2466, 'badge': 2467, 'beneficence': 2468, 'blended': 2469, 'bore': 2470, 'catastrophe': 2471, 'center': 2472, 'cheering': 2473, 'coeval': 2474, 'coincidence': 2475, 'collisions': 2476, 'combination': 2477, 'commit': 2478, 'commonly': 2479, 'compliance': 2480, 'concernment': 2481, 'concurrence': 2482, 'conformity': 2483, 'conquest': 2484, 'consists': 2485, 'constituted': 2486, 'consummation': 2487, 'contention': 2488, 'cooperation': 2489, 'coordinate': 2490, 'cost': 2491, 'countrymen': 2492, 'covenant': 2493, 'crowned': 2494, 'cultivation': 2495, 'declares': 2496, 'defend': 2497, 'defenses': 2498, 'defensive': 2499, 'deliberation': 2500, 'delineated': 2501, 'democracy': 2502, 'deserved': 2503, 'directly': 2504, 'disappointed': 2505, 'discharged': 2506, 'discordant': 2507, 'disease': 2508, 'disinterested': 2509, 'dispelled': 2510, 'dissolution': 2511, 'distributed': 2512, 'diversity': 2513, 'divided': 2514, 'divisions': 2515, 'dominion': 2516, 'doubted': 2517, 'doubts': 2518, 'earthly': 2519, 'embrace': 2520, 'embraced': 2521, 'embracing': 2522, 'enacted': 2523, 'encroachments': 2524, 'enjoyments': 2525, 'eventful': 2526, 'exceeding': 2527, 'except': 2528, 'exempt': 2529, 'existed': 2530, 'expenditure': 2531, 'exposition': 2532, 'extinguished': 2533, 'exultation': 2534, 'farmers': 2535, 'fearless': 2536, 'forefathers': 2537, 'forth': 2538, 'forward': 2539, 'founders': 2540, 'fraternity': 2541, 'frequency': 2542, 'geographical': 2543, 'guaranty': 2544, 'guard': 2545, 'harmonious': 2546, 'heard': 2547, 'hemisphere': 2548, 'inauguration': 2549, 'incidental': 2550, 'indebted': 2551, 'indigent': 2552, 'induction': 2553, 'infirmity': 2554, 'inheritance': 2555, 'invention': 2556, 'inviolate': 2557, 'involves': 2558, 'jarring': 2559, 'judiciary': 2560, 'labors': 2561, 'language': 2562, 'lasting': 2563, 'learn': 2564, 'limitation': 2565, 'lived': 2566, 'looking': 2567, 'lord': 2568, 'management': 2569, 'masters': 2570, 'meeting': 2571, 'members': 2572, 'mighty': 2573, 'millions': 2574, 'moneys': 2575, 'multiplied': 2576, 'numerous': 2577, 'obligation': 2578, 'orderly': 2579, 'originate': 2580, 'passing': 2581, 'peaceably': 2582, 'perfected': 2583, 'performance': 2584, 'persevering': 2585, 'picture': 2586, 'popular': 2587, 'possessed': 2588, 'practical': 2589, 'precisely': 2590, 'prejudice': 2591, 'preparing': 2592, 'prescribes': 2593, 'proclaimed': 2594, 'projects': 2595, 'promise': 2596, 'promises': 2597, 'quarters': 2598, 'receive': 2599, 'reduce': 2600, 'relation': 2601, 'removed': 2602, 'ruins': 2603, 'sacredly': 2604, 'salvation': 2605, 'scattered': 2606, 'school': 2607, 'scientific': 2608, 'section': 2609, 'sectional': 2610, 'settling': 2611, 'sixty': 2612, 'slaves': 2613, 'solemnities': 2614, 'solved': 2615, 'sovereignties': 2616, 'speculation': 2617, 'speculative': 2618, 'sphere': 2619, 'standards': 2620, 'strife': 2621, 'subordination': 2622, 'subsequent': 2623, 'successor': 2624, 'surveys': 2625, 'survived': 2626, 'swear': 2627, 'theory': 2628, 'threaten': 2629, 'topic': 2630, 'traffic': 2631, 'transmit': 2632, 'treaties': 2633, 'ultimately': 2634, 'unborn': 2635, 'uncontrollable': 2636, 'unfolding': 2637, 'unimpaired': 2638, 'went': 2639, 'wherever': 2640, 'winds': 2641, 'words': 2642, 'yielding': 2643, 'abilities': 2644, 'adjustment': 2645, 'administering': 2646, 'aim': 2647, 'anxiously': 2648, 'appointed': 2649, 'appointment': 2650, 'arsenals': 2651, 'becoming': 2652, 'briefly': 2653, 'cheerfully': 2654, 'communications': 2655, 'compromise': 2656, 'confederacy': 2657, 'conquered': 2658, 'considerate': 2659, 'correction': 2660, 'dedication': 2661, 'defending': 2662, 'delicate': 2663, 'demonstration': 2664, 'desirable': 2665, 'devolve': 2666, 'diligence': 2667, 'disturbed': 2668, 'encourages': 2669, 'engender': 2670, 'enlarge': 2671, 'enlarging': 2672, 'excused': 2673, 'extinguishment': 2674, 'facilitate': 2675, 'fame': 2676, 'flag': 2677, 'flow': 2678, 'forbearance': 2679, 'humane': 2680, 'incompatible': 2681, 'incompetent': 2682, 'inconsiderable': 2683, 'invincible': 2684, 'lend': 2685, 'lesson': 2686, 'list': 2687, 'manage': 2688, 'mention': 2689, 'million': 2690, 'observance': 2691, 'overlooked': 2692, 'plainly': 2693, 'products': 2694, 'progressive': 2695, 'prompt': 2696, 'reform': 2697, 'reformed': 2698, 'safeguard': 2699, 'searching': 2700, 'selection': 2701, 'skill': 2702, 'sooner': 2703, 'specific': 2704, 'stated': 2705, 'subjected': 2706, 'subjects': 2707, 'teaches': 2708, 'tendency': 2709, 'trusting': 2710, 'trusts': 2711, 'upheld': 2712, 'worth': 2713, 'achieved': 2714, 'anarchy': 2715, 'appropriate': 2716, 'arresting': 2717, 'becomes': 2718, 'borne': 2719, 'burdened': 2720, 'calls': 2721, 'communication': 2722, 'concession': 2723, 'confirm': 2724, 'consolidate': 2725, 'constitutionally': 2726, 'controversy': 2727, 'dawning': 2728, 'domination': 2729, 'exactions': 2730, 'eyes': 2731, 'fields': 2732, 'forever': 2733, 'governing': 2734, 'head': 2735, 'impoverished': 2736, 'indirectly': 2737, 'inevitably': 2738, 'judges': 2739, 'leaders': 2740, 'leading': 2741, 'legions': 2742, 'maxim': 2743, 'navies': 2744, 'necessarily': 2745, 'observation': 2746, 'occurred': 2747, 'plenty': 2748, 'prayer': 2749, 'raise': 2750, 'realize': 2751, 'rest': 2752, 'sections': 2753, 'simplicity': 2754, 'smaller': 2755, 'soldiers': 2756, 'somewhat': 2757, 'sons': 2758, 'submit': 2759, 'supporting': 2760, 'surround': 2761, 'suspicion': 2762, 'unsolicited': 2763, 'watching': 2764, 'abiding': 2765, 'abolish': 2766, 'absent': 2767, 'abundantly': 2768, 'accordance': 2769, 'actually': 2770, 'actuated': 2771, 'adequately': 2772, 'adherence': 2773, 'aggregate': 2774, 'aggression': 2775, 'aims': 2776, 'alleged': 2777, 'amid': 2778, 'ample': 2779, 'apparent': 2780, 'appertain': 2781, 'apprehensions': 2782, 'assuming': 2783, 'avoided': 2784, 'beginning': 2785, 'belief': 2786, 'beneficial': 2787, 'bill': 2788, 'bless': 2789, 'boldly': 2790, 'bond': 2791, 'boundaries': 2792, 'brilliant': 2793, 'broad': 2794, 'calm': 2795, 'candidly': 2796, 'ceased': 2797, 'century': 2798, 'changed': 2799, 'columbia': 2800, 'come': 2801, 'commensurate': 2802, 'comparatively': 2803, 'compatible': 2804, 'complex': 2805, 'confer': 2806, 'confided': 2807, 'confiding': 2808, 'constructed': 2809, 'content': 2810, 'controversies': 2811, 'cordial': 2812, 'counter': 2813, 'criminal': 2814, 'days': 2815, 'deaf': 2816, 'dealings': 2817, 'deemed': 2818, 'deeper': 2819, 'deliberately': 2820, 'dependence': 2821, 'designed': 2822, 'designs': 2823, 'developed': 2824, 'developing': 2825, 'devote': 2826, 'differed': 2827, 'differently': 2828, 'difficult': 2829, 'diffused': 2830, 'disaster': 2831, 'dispel': 2832, 'disputes': 2833, 'disregarded': 2834, 'district': 2835, 'embarrassment': 2836, 'embarrassments': 2837, 'emergencies': 2838, 'endurance': 2839, 'equitable': 2840, 'evidently': 2841, 'evils': 2842, 'exaggerated': 2843, 'excitement': 2844, 'exclusive': 2845, 'expanded': 2846, 'failed': 2847, 'failure': 2848, 'faithfully': 2849, 'fears': 2850, 'fervently': 2851, 'field': 2852, 'fifty': 2853, 'fill': 2854, 'footsteps': 2855, 'foreboding': 2856, 'forebodings': 2857, 'forecast': 2858, 'foretold': 2859, 'framed': 2860, 'framers': 2861, 'frankness': 2862, 'fraternal': 2863, 'fullness': 2864, 'furnishes': 2865, 'gave': 2866, 'gradually': 2867, 'greatly': 2868, 'happen': 2869, 'honors': 2870, 'hoped': 2871, 'hostile': 2872, 'humblest': 2873, 'humbly': 2874, 'inability': 2875, 'including': 2876, 'induced': 2877, 'inventive': 2878, 'inviolability': 2879, 'invoking': 2880, 'irresponsible': 2881, 'judicial': 2882, 'laboring': 2883, 'landmarks': 2884, 'lapse': 2885, 'largely': 2886, 'later': 2887, 'learned': 2888, 'leaves': 2889, 'legislated': 2890, 'letter': 2891, 'lurk': 2892, 'magnify': 2893, 'marks': 2894, 'masses': 2895, 'misrepresentation': 2896, 'mistaken': 2897, 'motive': 2898, 'municipal': 2899, 'needful': 2900, 'neither': 2901, 'occasionally': 2902, 'occupy': 2903, 'onward': 2904, 'opened': 2905, 'overcome': 2906, 'pain': 2907, 'partake': 2908, 'paths': 2909, 'patriots': 2910, 'perceiving': 2911, 'perfectly': 2912, 'performed': 2913, 'performing': 2914, 'periodically': 2915, 'perpetuity': 2916, 'philosophy': 2917, 'pillars': 2918, 'presents': 2919, 'presidential': 2920, 'prevails': 2921, 'privileges': 2922, 'probably': 2923, 'producing': 2924, 'promptness': 2925, 'protecting': 2926, 'purified': 2927, 'quietly': 2928, 'reasons': 2929, 'receiving': 2930, 'reciprocal': 2931, 'reckless': 2932, 'recognize': 2933, 'reference': 2934, 'refrain': 2935, 'region': 2936, 'relate': 2937, 'relative': 2938, 'reluctantly': 2939, 'representation': 2940, 'retrospect': 2941, 'risen': 2942, 'run': 2943, 'scenes': 2944, 'scheme': 2945, 'scope': 2946, 'servant': 2947, 'serve': 2948, 'set': 2949, 'show': 2950, 'similar': 2951, 'sincerity': 2952, 'singularly': 2953, 'sinister': 2954, 'slavery': 2955, 'sole': 2956, 'spent': 2957, 'spot': 2958, 'spring': 2959, 'statesmen': 2960, 'strengthening': 2961, 'succession': 2962, 'supposed': 2963, 'surely': 2964, 'sustaining': 2965, 'swerved': 2966, 'territorial': 2967, 'thoughtful': 2968, 'throw': 2969, 'timid': 2970, 'ultimate': 2971, 'uncompromising': 2972, 'understood': 2973, 'unequaled': 2974, 'uniform': 2975, 'unquestionably': 2976, 'unwisely': 2977, 'uphold': 2978, 'varied': 2979, 'variety': 2980, 'verified': 2981, 'vindicate': 2982, 'voluntarily': 2983, 'warmly': 2984, 'warrant': 2985, 'ways': 2986, 'weigh': 2987, 'weighed': 2988, 'widened': 2989, 'wounds': 2990, 'absence': 2991, 'accept': 2992, 'accession': 2993, 'accompanied': 2994, 'accomplishment': 2995, 'accountable': 2996, 'accumulation': 2997, 'acting': 2998, 'adding': 2999, 'admission': 3000, 'advice': 3001, 'agent': 3002, 'aggrandizement': 3003, 'agree': 3004, 'alarmed': 3005, 'alliance': 3006, 'allies': 3007, 'allow': 3008, 'allowed': 3009, 'alternative': 3010, 'although': 3011, 'ambition': 3012, 'amendments': 3013, 'amongst': 3014, 'animates': 3015, 'annual': 3016, 'antagonist': 3017, 'appalling': 3018, 'appointing': 3019, 'approaches': 3020, 'arises': 3021, 'aristocracy': 3022, 'ascertain': 3023, 'ascertaining': 3024, 'asia': 3025, 'assent': 3026, 'assist': 3027, 'associations': 3028, 'assumes': 3029, 'assurance': 3030, 'athens': 3031, 'attributable': 3032, 'avoiding': 3033, 'bad': 3034, 'banking': 3035, 'beautiful': 3036, 'beauty': 3037, 'behooves': 3038, 'believing': 3039, 'betray': 3040, 'bills': 3041, 'bitterness': 3042, 'blinded': 3043, 'boasted': 3044, 'bold': 3045, 'bonds': 3046, 'bosoms': 3047, 'bounds': 3048, 'breath': 3049, 'business': 3050, 'caesar': 3051, 'capitol': 3052, 'careful': 3053, 'cast': 3054, 'celebrated': 3055, 'central': 3056, 'checked': 3057, 'christian': 3058, 'clause': 3059, 'clear': 3060, 'coming': 3061, 'commissions': 3062, 'communicating': 3063, 'compare': 3064, 'compensated': 3065, 'complained': 3066, 'complicated': 3067, 'compose': 3068, 'composing': 3069, 'conceive': 3070, 'conceiving': 3071, 'concentrated': 3072, 'concerned': 3073, 'concord': 3074, 'conferring': 3075, 'confers': 3076, 'confident': 3077, 'conservative': 3078, 'contain': 3079, 'contended': 3080, 'continues': 3081, 'contracted': 3082, 'controlled': 3083, 'controlling': 3084, 'corner': 3085, 'corrupting': 3086, 'create': 3087, 'created': 3088, 'creating': 3089, 'culture': 3090, 'curiosity': 3091, 'currency': 3092, 'custom': 3093, 'decay': 3094, 'declarations': 3095, 'defective': 3096, 'defined': 3097, 'delay': 3098, 'deliver': 3099, 'democratic': 3100, 'denied': 3101, 'denying': 3102, 'departure': 3103, 'deprecated': 3104, 'deprivation': 3105, 'deprive': 3106, 'derives': 3107, 'designation': 3108, 'designing': 3109, 'desired': 3110, 'destroy': 3111, 'develop': 3112, 'devised': 3113, 'devising': 3114, 'dictator': 3115, 'discourage': 3116, 'dispassionate': 3117, 'disposal': 3118, 'disputed': 3119, 'distribution': 3120, 'distrust': 3121, 'disunion': 3122, 'divorce': 3123, 'dominant': 3124, 'dreamed': 3125, 'dreams': 3126, 'dying': 3127, 'effectually': 3128, 'embarrassed': 3129, 'employment': 3130, 'enactment': 3131, 'engagements': 3132, 'england': 3133, 'entirely': 3134, 'eventually': 3135, 'excessive': 3136, 'exerted': 3137, 'expressly': 3138, 'fabric': 3139, 'faction': 3140, 'failing': 3141, 'fashioned': 3142, 'fatal': 3143, 'finance': 3144, 'finances': 3145, 'financial': 3146, 'fled': 3147, 'forgetting': 3148, 'forum': 3149, 'franchise': 3150, 'fund': 3151, 'furnish': 3152, 'gaze': 3153, 'generosity': 3154, 'gifts': 3155, 'glorious': 3156, 'gold': 3157, 'golden': 3158, 'grant': 3159, 'grants': 3160, 'grows': 3161, 'guaranteed': 3162, 'guards': 3163, 'guilty': 3164, 'halls': 3165, 'harmless': 3166, 'hasty': 3167, 'hated': 3168, 'heightened': 3169, 'hitherto': 3170, 'homes': 3171, 'immunity': 3172, 'incongruity': 3173, 'indications': 3174, 'inflict': 3175, 'influences': 3176, 'informed': 3177, 'inspiring': 3178, 'instrumentality': 3179, 'interfere': 3180, 'interrupted': 3181, 'intimate': 3182, 'intolerant': 3183, 'invested': 3184, 'investigation': 3185, 'issues': 3186, 'jealousy': 3187, 'jefferson': 3188, 'joint': 3189, 'justify': 3190, 'liability': 3191, 'liberator': 3192, 'lines': 3193, 'living': 3194, 'looks': 3195, 'lover': 3196, 'master': 3197, 'matter': 3198, 'meaning': 3199, 'medium': 3200, 'metallic': 3201, 'mine': 3202, 'minister': 3203, 'minorities': 3204, 'mischief': 3205, 'mischievous': 3206, 'misconstruction': 3207, 'misunderstanding': 3208, 'mockery': 3209, 'moderation': 3210, 'monarchy': 3211, 'mother': 3212, 'move': 3213, 'mr': 3214, 'mutually': 3215, 'negative': 3216, 'neglect': 3217, 'negotiations': 3218, 'notwithstanding': 3219, 'nurture': 3220, 'oaths': 3221, 'observable': 3222, 'operations': 3223, 'opposed': 3224, 'orbits': 3225, 'parliament': 3226, 'pending': 3227, 'perpetuate': 3228, 'petty': 3229, 'poor': 3230, 'positively': 3231, 'possesses': 3232, 'possession': 3233, 'potent': 3234, 'predictions': 3235, 'presidency': 3236, 'presidents': 3237, 'presiding': 3238, 'pristine': 3239, 'proclaiming': 3240, 'professions': 3241, 'prohibition': 3242, 'promised': 3243, 'propose': 3244, 'propriety': 3245, 'prospered': 3246, 'prudent': 3247, 'published': 3248, 'purely': 3249, 'qualities': 3250, 'quite': 3251, 'really': 3252, 'record': 3253, 'referred': 3254, 'refusing': 3255, 'regards': 3256, 'regret': 3257, 'reign': 3258, 'reject': 3259, 'relied': 3260, 'remark': 3261, 'remarks': 3262, 'removal': 3263, 'renewing': 3264, 'repeat': 3265, 'repugnant': 3266, 'respected': 3267, 'rests': 3268, 'returned': 3269, 'revenues': 3270, 'reverse': 3271, 'rigid': 3272, 'roman': 3273, 'ruler': 3274, 'sacredness': 3275, 'sacrificed': 3276, 'sake': 3277, 'schemes': 3278, 'search': 3279, 'seeks': 3280, 'seize': 3281, 'selfish': 3282, 'shackles': 3283, 'shaping': 3284, 'shield': 3285, 'shout': 3286, 'significant': 3287, 'simple': 3288, 'sincerely': 3289, 'singular': 3290, 'solely': 3291, 'souls': 3292, 'sovereigns': 3293, 'speaking': 3294, 'species': 3295, 'specified': 3296, 'spend': 3297, 'spoils': 3298, 'spoke': 3299, 'spoken': 3300, 'sternest': 3301, 'stone': 3302, 'strange': 3303, 'sublime': 3304, 'suggestions': 3305, 'summary': 3306, 'supervision': 3307, 'suppose': 3308, 'surrendered': 3309, 'systems': 3310, 'takes': 3311, 'talent': 3312, 'talk': 3313, 'taught': 3314, 'temple': 3315, 'temptations': 3316, 'tendered': 3317, 'thoughts': 3318, 'tie': 3319, 'told': 3320, 'tolerant': 3321, 'toleration': 3322, 'totally': 3323, 'treasure': 3324, 'tyrant': 3325, 'unable': 3326, 'unalienable': 3327, 'understandings': 3328, 'unhallowed': 3329, 'unmake': 3330, 'unpleasant': 3331, 'unusual': 3332, 'upward': 3333, 'used': 3334, 'usurp': 3335, 'veto': 3336, 'vigilance': 3337, 'virtually': 3338, 'void': 3339, 'votes': 3340, 'watched': 3341, 'weaker': 3342, 'withheld': 3343, 'worship': 3344, 'worthy': 3345, 'writers': 3346, 'writing': 3347, 'abolished': 3348, 'abstain': 3349, 'abused': 3350, 'achievements': 3351, 'acquiesce': 3352, 'adjusting': 3353, 'admirable': 3354, 'ally': 3355, 'annexation': 3356, 'announce': 3357, 'appreciate': 3358, 'arid': 3359, 'arm': 3360, 'art': 3361, 'assert': 3362, 'assign': 3363, 'auspicious': 3364, 'banks': 3365, 'beneath': 3366, 'binding': 3367, 'carries': 3368, 'chart': 3369, 'collection': 3370, 'collectively': 3371, 'compromises': 3372, 'conceded': 3373, 'confidently': 3374, 'congratulate': 3375, 'connection': 3376, 'consequent': 3377, 'consume': 3378, 'consumed': 3379, 'consummate': 3380, 'contract': 3381, 'creeds': 3382, 'cross': 3383, 'dependency': 3384, 'detriment': 3385, 'diminishing': 3386, 'discard': 3387, 'discountenanced': 3388, 'discoveries': 3389, 'discriminating': 3390, 'discriminations': 3391, 'distinctions': 3392, 'distribute': 3393, 'diversified': 3394, 'doubtful': 3395, 'doubtless': 3396, 'earlier': 3397, 'earnestly': 3398, 'economical': 3399, 'emigrants': 3400, 'enriched': 3401, 'european': 3402, 'exacted': 3403, 'executes': 3404, 'extends': 3405, 'freed': 3406, 'grown': 3407, 'heartburnings': 3408, 'heavy': 3409, 'hour': 3410, 'impotent': 3411, 'inconsiderate': 3412, 'inventions': 3413, 'invoke': 3414, 'involve': 3415, 'levied': 3416, 'levying': 3417, 'liabilities': 3418, 'lies': 3419, 'lifetime': 3420, 'lift': 3421, 'low': 3422, 'lowest': 3423, 'majorities': 3424, 'manifest': 3425, 'material': 3426, 'mental': 3427, 'merely': 3428, 'miseries': 3429, 'monarchies': 3430, 'monopolies': 3431, 'mountains': 3432, 'multitude': 3433, 'multitudes': 3434, 'needed': 3435, 'noblest': 3436, 'occupation': 3437, 'offspring': 3438, 'oppose': 3439, 'participate': 3440, 'plain': 3441, 'practically': 3442, 'prevented': 3443, 'profit': 3444, 'prohibited': 3445, 'prop': 3446, 'proposition': 3447, 'providing': 3448, 'qualified': 3449, 'quality': 3450, 'raising': 3451, 'range': 3452, 'readily': 3453, 'refuse': 3454, 'reiterate': 3455, 'rejoice': 3456, 'remember': 3457, 'responsibilities': 3458, 'restoration': 3459, 'returns': 3460, 'reunion': 3461, 'revealed': 3462, 'ridge': 3463, 'rightfully': 3464, 'rocky': 3465, 'safer': 3466, 'saved': 3467, 'seeing': 3468, 'speedily': 3469, 'stop': 3470, 'stronger': 3471, 'structure': 3472, 'substituting': 3473, 'surface': 3474, 'tariff': 3475, 'taxing': 3476, 'tested': 3477, 'texas': 3478, 'thirteen': 3479, 'three': 3480, 'transfers': 3481, 'tribunal': 3482, 'unconstitutional': 3483, 'undoubted': 3484, 'unfortunate': 3485, 'unjust': 3486, 'unmindful': 3487, 'unwise': 3488, 'valley': 3489, 'valleys': 3490, 'vitally': 3491, 'warms': 3492, 'watchfulness': 3493, 'weakened': 3494, 'wealthy': 3495, 'week': 3496, 'widespread': 3497, 'acceptance': 3498, 'active': 3499, 'appoint': 3500, 'beginnings': 3501, 'conducted': 3502, 'conform': 3503, 'devolved': 3504, 'diplomacy': 3505, 'eminence': 3506, 'everyone': 3507, 'fearful': 3508, 'furtherance': 3509, 'guaranties': 3510, 'holding': 3511, 'indicate': 3512, 'international': 3513, 'manifold': 3514, 'matured': 3515, 'paramount': 3516, 'proclaim': 3517, 'renew': 3518, 'settle': 3519, 'special': 3520, 'sympathize': 3521, 'titles': 3522, 'truly': 3523, 'warned': 3524, 'washington': 3525, 'achieve': 3526, 'advocacy': 3527, 'affirms': 3528, 'ambitious': 3529, 'answerable': 3530, 'banner': 3531, 'based': 3532, 'behind': 3533, 'bestow': 3534, 'born': 3535, 'boundless': 3536, 'bravely': 3537, 'broken': 3538, 'canvass': 3539, 'challenge': 3540, 'changes': 3541, 'channels': 3542, 'characterized': 3543, 'citizenship': 3544, 'colonization': 3545, 'concentration': 3546, 'confess': 3547, 'confirmed': 3548, 'congratulation': 3549, 'consult': 3550, 'convictions': 3551, 'darkness': 3552, 'dealt': 3553, 'disappointment': 3554, 'discern': 3555, 'discrimination': 3556, 'eloquent': 3557, 'emerging': 3558, 'enthusiasm': 3559, 'evident': 3560, 'expansion': 3561, 'experiments': 3562, 'fulfilled': 3563, 'fundamental': 3564, 'furnace': 3565, 'furnishing': 3566, 'gathering': 3567, 'governmental': 3568, 'grounds': 3569, 'hardly': 3570, 'hazard': 3571, 'hence': 3572, 'higher': 3573, 'hopeful': 3574, 'humiliating': 3575, 'idle': 3576, 'imperatively': 3577, 'impressive': 3578, 'impulse': 3579, 'impunity': 3580, 'inadmissible': 3581, 'incidents': 3582, 'influenced': 3583, 'inherited': 3584, 'intend': 3585, 'invite': 3586, 'justification': 3587, 'lest': 3588, 'limitless': 3589, 'listen': 3590, 'manifestation': 3591, 'memories': 3592, 'mission': 3593, 'moved': 3594, 'nucleus': 3595, 'obeyed': 3596, 'obscure': 3597, 'oceans': 3598, 'oppressed': 3599, 'pace': 3600, 'partisan': 3601, 'pathway': 3602, 'polity': 3603, 'possessions': 3604, 'preferment': 3605, 'prerogative': 3606, 'preside': 3607, 'priceless': 3608, 'problem': 3609, 'purchased': 3610, 'rare': 3611, 'reaffirm': 3612, 'recently': 3613, 'reciprocity': 3614, 'regardless': 3615, 'rejected': 3616, 'remembered': 3617, 'requirements': 3618, 'rude': 3619, 'sacrificing': 3620, 'sectionalism': 3621, 'servitude': 3622, 'silence': 3623, 'soldier': 3624, 'solution': 3625, 'sorrow': 3626, 'stands': 3627, 'star': 3628, 'stars': 3629, 'stay': 3630, 'stern': 3631, 'stood': 3632, 'strike': 3633, 'stringent': 3634, 'struggling': 3635, 'subsided': 3636, 'tempered': 3637, 'tending': 3638, 'throng': 3639, 'tumults': 3640, 'turned': 3641, 'undiminished': 3642, 'unequivocal': 3643, 'unhesitatingly': 3644, 'unknown': 3645, 'untarnished': 3646, 'vigilant': 3647, 'voices': 3648, 'weak': 3649, 'working': 3650, 'absolutely': 3651, 'accepting': 3652, 'access': 3653, 'acquire': 3654, 'across': 3655, 'altar': 3656, 'available': 3657, 'begets': 3658, 'calculate': 3659, 'cardinal': 3660, 'compensate': 3661, 'complain': 3662, 'conception': 3663, 'constructing': 3664, 'contented': 3665, 'corporations': 3666, 'court': 3667, 'defended': 3668, 'deny': 3669, 'descending': 3670, 'east': 3671, 'endangered': 3672, 'estimation': 3673, 'expanding': 3674, 'fairness': 3675, 'fault': 3676, 'forgotten': 3677, 'frame': 3678, 'frank': 3679, 'impaired': 3680, 'imperative': 3681, 'inadequate': 3682, 'inconsistent': 3683, 'industrious': 3684, 'insignificance': 3685, 'instant': 3686, 'isthmus': 3687, 'kansas': 3688, 'kindred': 3689, 'legitimately': 3690, 'loving': 3691, 'march': 3692, 'modification': 3693, 'owe': 3694, 'perish': 3695, 'pressing': 3696, 'profits': 3697, 'railroads': 3698, 'refusal': 3699, 'reserve': 3700, 'resident': 3701, 'route': 3702, 'settlement': 3703, 'settlers': 3704, 'shared': 3705, 'sister': 3706, 'sober': 3707, 'squandering': 3708, 'substance': 3709, 'suppress': 3710, 'tempest': 3711, 'temptation': 3712, 'terrific': 3713, 'tonnage': 3714, 'truths': 3715, 'wherein': 3716, 'wild': 3717, 'abide': 3718, 'adjust': 3719, 'affirm': 3720, 'aliens': 3721, 'allows': 3722, 'amended': 3723, 'anywhere': 3724, 'applicable': 3725, 'arbitrarily': 3726, 'assault': 3727, 'assured': 3728, 'attempted': 3729, 'authoritative': 3730, 'balance': 3731, 'bloodshed': 3732, 'build': 3733, 'calmly': 3734, 'chorus': 3735, 'commission': 3736, 'consistently': 3737, 'continuing': 3738, 'cured': 3739, 'delivered': 3740, 'demanded': 3741, 'desirous': 3742, 'desperate': 3743, 'disruption': 3744, 'dissatisfied': 3745, 'easier': 3746, 'emphatic': 3747, 'enforcement': 3748, 'enters': 3749, 'essence': 3750, 'extreme': 3751, 'fix': 3752, 'follows': 3753, 'forego': 3754, 'frustrated': 3755, 'fugitive': 3756, 'fugitives': 3757, 'gain': 3758, 'get': 3759, 'glad': 3760, 'grave': 3761, 'gravest': 3762, 'grow': 3763, 'guarantees': 3764, 'haste': 3765, 'hearthstone': 3766, 'hurry': 3767, 'identical': 3768, 'identity': 3769, 'ills': 3770, 'imperfectly': 3771, 'incoming': 3772, 'indicated': 3773, 'inhabit': 3774, 'inspection': 3775, 'intervals': 3776, 'irrevocably': 3777, 'jurisprudence': 3778, 'lawfully': 3779, 'lawless': 3780, 'legally': 3781, 'mistake': 3782, 'obnoxious': 3783, 'older': 3784, 'organic': 3785, 'platform': 3786, 'precedent': 3787, 'preferable': 3788, 'prohibit': 3789, 'prohibitions': 3790, 'registered': 3791, 'rejecting': 3792, 'reservations': 3793, 'restriction': 3794, 'risk': 3795, 'rulers': 3796, 'secede': 3797, 'secession': 3798, 'space': 3799, 'speeches': 3800, 'strained': 3801, 'stretching': 3802, 'suit': 3803, 'temper': 3804, 'therein': 3805, 'touched': 3806, 'troubles': 3807, 'unanimous': 3808, 'unbroken': 3809, 'uses': 3810, 'using': 3811, 'weary': 3812, 'whoever': 3813, 'wholly': 3814, 'withhold': 3815, 'worse': 3816, 'answered': 3817, 'avert': 3818, 'believers': 3819, 'bible': 3820, 'charity': 3821, 'colored': 3822, 'else': 3823, 'encouraging': 3824, 'faces': 3825, 'fitting': 3826, 'hundred': 3827, 'impending': 3828, 'inaugural': 3829, 'insurgents': 3830, 'lash': 3831, 'offense': 3832, 'offenses': 3833, 'phase': 3834, 'piled': 3835, 'reasonably': 3836, 'righteous': 3837, 'scourge': 3838, 'seemed': 3839, 'statement': 3840, 'strive': 3841, 'survive': 3842, 'sweat': 3843, 'toil': 3844, 'triumph': 3845, 'unto': 3846, 'wills': 3847, 'woe': 3848, 'accounted': 3849, 'acquiesced': 3850, 'agitate': 3851, 'approval': 3852, 'box': 3853, 'contingency': 3854, 'deal': 3855, 'defeat': 3856, 'demanding': 3857, 'dollar': 3858, 'ease': 3859, 'economically': 3860, 'emerge': 3861, 'emerged': 3862, 'excluded': 3863, 'fifteenth': 3864, 'floats': 3865, 'hate': 3866, 'indebtedness': 3867, 'indians': 3868, 'industries': 3869, 'key': 3870, 'locked': 3871, 'method': 3872, 'paying': 3873, 'payments': 3874, 'poverty': 3875, 'ratification': 3876, 'rebellion': 3877, 'restored': 3878, 'resumed': 3879, 'securing': 3880, 'sort': 3881, 'specie': 3882, 'sterile': 3883, 'tends': 3884, 'treatment': 3885, 'young': 3886, 'april': 3887, 'asking': 3888, 'beg': 3889, 'began': 3890, 'domingo': 3891, 'elevation': 3892, 'exports': 3893, 'extermination': 3894, 'gift': 3895, 'growing': 3896, 'imports': 3897, 'industrial': 3898, 'maker': 3899, 'manufacturing': 3900, 'methods': 3901, 'par': 3902, 'permanently': 3903, 'promotion': 3904, 'resting': 3905, 'santo': 3906, 'status': 3907, 'steam': 3908, 'superiority': 3909, 'teaching': 3910, 'telegraph': 3911, 'transit': 3912, 'values': 3913, 'adhere': 3914, 'advocate': 3915, 'appointments': 3916, 'arbitration': 3917, 'built': 3918, 'ceremonial': 3919, 'closeness': 3920, 'coin': 3921, 'color': 3922, 'complications': 3923, 'congressional': 3924, 'contentment': 3925, 'democrats': 3926, 'deserves': 3927, 'differ': 3928, 'electoral': 3929, 'emancipated': 3930, 'emancipation': 3931, 'embarrassing': 3932, 'employ': 3933, 'engage': 3934, 'heartily': 3935, 'hearty': 3936, 'immeasurable': 3937, 'implies': 3938, 'inaugurated': 3939, 'incomparably': 3940, 'loyally': 3941, 'maintains': 3942, 'meant': 3943, 'mindful': 3944, 'nomination': 3945, 'opposing': 3946, 'ordered': 3947, 'owes': 3948, 'pacification': 3949, 'paper': 3950, 'patiently': 3951, 'practices': 3952, 'prior': 3953, 'problems': 3954, 'races': 3955, 'reached': 3956, 'recognizes': 3957, 'recognizing': 3958, 'rejoicing': 3959, 'reminded': 3960, 'research': 3961, 'restoring': 3962, 'resumption': 3963, 'serves': 3964, 'shaped': 3965, 'solving': 3966, 'tenure': 3967, 'threshold': 3968, 'traditional': 3969, 'tremendous': 3970, 'unreserved': 3971, 'urging': 3972, 'usually': 3973, 'vary': 3974, 'white': 3975, 'widely': 3976, 'wipe': 3977, 'anniversary': 3978, 'area': 3979, 'aside': 3980, 'ballot': 3981, 'battlefields': 3982, 'beset': 3983, 'canal': 3984, 'caused': 3985, 'census': 3986, 'centennial': 3987, 'child': 3988, 'closed': 3989, 'coinage': 3990, 'coined': 3991, 'comes': 3992, 'compulsory': 3993, 'confusion': 3994, 'continents': 3995, 'counted': 3996, 'crowded': 3997, 'decree': 3998, 'disturbance': 3999, 'emphasis': 4000, 'facing': 4001, 'farms': 4002, 'fit': 4003, 'fought': 4004, 'hang': 4005, 'healthy': 4006, 'heirs': 4007, 'help': 4008, 'holders': 4009, 'illiteracy': 4010, 'immensely': 4011, 'incumbents': 4012, 'industrially': 4013, 'inordinate': 4014, 'inspiration': 4015, 'inspirations': 4016, 'instrumentalities': 4017, 'interpret': 4018, 'joined': 4019, 'keeps': 4020, 'king': 4021, 'lower': 4022, 'monetary': 4023, 'naught': 4024, 'negro': 4025, 'negroes': 4026, 'notes': 4027, 'offered': 4028, 'partisanship': 4029, 'patience': 4030, 'pause': 4031, 'pity': 4032, 'polygamy': 4033, 'populous': 4034, 'possibilities': 4035, 'purchasing': 4036, 'pursuance': 4037, 'railways': 4038, 'rate': 4039, 'remarkable': 4040, 'removals': 4041, 'removing': 4042, 'resolutely': 4043, 'retard': 4044, 'reverently': 4045, 'reviewed': 4046, 'richer': 4047, 'seasons': 4048, 'ship': 4049, 'silver': 4050, 'smallest': 4051, 'sounded': 4052, 'stifle': 4053, 'stir': 4054, 'tender': 4055, 'transportation': 4056, 'traveled': 4057, 'truce': 4058, 'unites': 4059, 'vice': 4060, 'vigorous': 4061, 'volunteer': 4062, 'voter': 4063, 'voters': 4064, 'voting': 4065, 'waterways': 4066, 'widening': 4067, 'wider': 4068, 'wronged': 4069, 'yorktown': 4070, 'abandonment': 4071, 'ambitions': 4072, 'anew': 4073, 'ashamed': 4074, 'attendant': 4075, 'avoidance': 4076, 'bringing': 4077, 'capitals': 4078, 'cautious': 4079, 'charges': 4080, 'commended': 4081, 'compete': 4082, 'consecrates': 4083, 'dictate': 4084, 'din': 4085, 'earnings': 4086, 'employees': 4087, 'enterprising': 4088, 'extravagance': 4089, 'farm': 4090, 'fitness': 4091, 'framework': 4092, 'heat': 4093, 'immigration': 4094, 'incompetency': 4095, 'insist': 4096, 'intrusion': 4097, 'marts': 4098, 'monroe': 4099, 'offensive': 4100, 'persistently': 4101, 'postponement': 4102, 'preventing': 4103, 'recognition': 4104, 'retaining': 4105, 'seal': 4106, 'serving': 4107, 'shock': 4108, 'succeed': 4109, 'suggests': 4110, 'tempt': 4111, 'thrift': 4112, 'today': 4113, 'town': 4114, 'traditions': 4115, 'unlawful': 4116, 'vicious': 4117, 'vouchsafed': 4118, 'wage': 4119, 'wards': 4120, 'weal': 4121, 'worthily': 4122, 'abreast': 4123, 'agencies': 4124, 'allegiance': 4125, 'applicants': 4126, 'applying': 4127, 'arbitrament': 4128, 'armament': 4129, 'attempting': 4130, 'avenues': 4131, 'begins': 4132, 'black': 4133, 'breast': 4134, 'burdensome': 4135, 'calculation': 4136, 'celebrate': 4137, 'check': 4138, 'clothed': 4139, 'coal': 4140, 'colonial': 4141, 'concessions': 4142, 'contentions': 4143, 'contribution': 4144, 'cotton': 4145, 'courageously': 4146, 'courts': 4147, 'covenants': 4148, 'crown': 4149, 'darkened': 4150, 'definition': 4151, 'delays': 4152, 'denies': 4153, 'dependencies': 4154, 'depths': 4155, 'destroys': 4156, 'die': 4157, 'differing': 4158, 'discover': 4159, 'discovered': 4160, 'districts': 4161, 'dominate': 4162, 'dominated': 4163, 'elect': 4164, 'electors': 4165, 'environment': 4166, 'escape': 4167, 'evade': 4168, 'evanescent': 4169, 'exalt': 4170, 'exchanges': 4171, 'factory': 4172, 'favoritism': 4173, 'fed': 4174, 'feet': 4175, 'fires': 4176, 'fortunately': 4177, 'fringe': 4178, 'guns': 4179, 'harbor': 4180, 'hard': 4181, 'hills': 4182, 'housed': 4183, 'ideal': 4184, 'indecent': 4185, 'inefficient': 4186, 'influential': 4187, 'inquire': 4188, 'insistence': 4189, 'investments': 4190, 'islands': 4191, 'lawlessness': 4192, 'located': 4193, 'lying': 4194, 'magnificent': 4195, 'manifestly': 4196, 'marine': 4197, 'marvelous': 4198, 'merchant': 4199, 'mercy': 4200, 'mill': 4201, 'mining': 4202, 'mistrust': 4203, 'mobs': 4204, 'neighborhood': 4205, 'note': 4206, 'obey': 4207, 'opponents': 4208, 'orphans': 4209, 'penalties': 4210, 'pension': 4211, 'pernicious': 4212, 'persistent': 4213, 'postponed': 4214, 'presently': 4215, 'product': 4216, 'protective': 4217, 'protest': 4218, 'recall': 4219, 'recover': 4220, 'reduction': 4221, 'requirement': 4222, 'residing': 4223, 'revival': 4224, 'righteousness': 4225, 'sailors': 4226, 'sanctity': 4227, 'scrupulously': 4228, 'selfishness': 4229, 'shop': 4230, 'sky': 4231, 'spectators': 4232, 'stable': 4233, 'suggestion': 4234, 'suitably': 4235, 'swift': 4236, 'threat': 4237, 'throwing': 4238, 'tolerate': 4239, 'trading': 4240, 'treasures': 4241, 'uncovered': 4242, 'unfailing': 4243, 'unfair': 4244, 'unforeseen': 4245, 'unity': 4246, 'valued': 4247, 'vastly': 4248, 'virginia': 4249, 'welcome': 4250, 'widows': 4251, 'wrest': 4252, 'york': 4253, 'achievement': 4254, 'activities': 4255, 'advised': 4256, 'aggregations': 4257, 'border': 4258, 'collapse': 4259, 'confront': 4260, 'confronts': 4261, 'cooperate': 4262, 'dealing': 4263, 'dedicate': 4264, 'defines': 4265, 'delusions': 4266, 'denial': 4267, 'enforcing': 4268, 'ennobling': 4269, 'especial': 4270, 'fixing': 4271, 'frequently': 4272, 'frugality': 4273, 'gravity': 4274, 'hardihood': 4275, 'heedless': 4276, 'heedlessness': 4277, 'include': 4278, 'inexorable': 4279, 'insidious': 4280, 'loyalty': 4281, 'mandate': 4282, 'measured': 4283, 'paternalism': 4284, 'patriotically': 4285, 'peril': 4286, 'phrases': 4287, 'precaution': 4288, 'related': 4289, 'represent': 4290, 'rise': 4291, 'robust': 4292, 'shielded': 4293, 'shocks': 4294, 'statesmanship': 4295, 'stimulate': 4296, 'sturdy': 4297, 'subsidies': 4298, 'tear': 4299, 'threatens': 4300, 'treat': 4301, 'undermines': 4302, 'unheeded': 4303, 'unlearned': 4304, 'wages': 4305, 'co': 4306, 'combined': 4307, 'convene': 4308, 'creates': 4309, 'decreased': 4310, 'deficit': 4311, 'depressed': 4312, 'dignified': 4313, 'diplomatic': 4314, 'economic': 4315, 'enact': 4316, 'enduring': 4317, 'entanglement': 4318, 'exceed': 4319, 'exhaustive': 4320, 'extra': 4321, 'fearing': 4322, 'fiscal': 4323, 'foes': 4324, 'foremost': 4325, 'gates': 4326, 'goes': 4327, 'helpful': 4328, 'highways': 4329, 'initiative': 4330, 'insuring': 4331, 'lacking': 4332, 'leadership': 4333, 'loyal': 4334, 'manufactured': 4335, 'met': 4336, 'non': 4337, 'percentage': 4338, 'permanence': 4339, 'policies': 4340, 'politics': 4341, 'potential': 4342, 'prevailing': 4343, 'promising': 4344, 'rates': 4345, 'receipts': 4346, 'reforms': 4347, 'revision': 4348, 'rock': 4349, 'sale': 4350, 'securely': 4351, 'signed': 4352, 'simply': 4353, 'slowly': 4354, 'speech': 4355, 'statutes': 4356, 'stimulus': 4357, 'stopped': 4358, 'temporarily': 4359, 'universally': 4360, 'vigorously': 4361, 'voted': 4362, 'walk': 4363, 'appreciating': 4364, 'appropriations': 4365, 'archipelago': 4366, 'blazed': 4367, 'broader': 4368, 'builders': 4369, 'china': 4370, 'completion': 4371, 'confronted': 4372, 'crises': 4373, 'cuba': 4374, 'dark': 4375, 'decrees': 4376, 'demonstrate': 4377, 'disappeared': 4378, 'dishonorable': 4379, 'doctrine': 4380, 'falter': 4381, 'fast': 4382, 'honorably': 4383, 'horrors': 4384, 'instructions': 4385, 'intervention': 4386, 'maps': 4387, 'nationality': 4388, 'nowhere': 4389, 'officials': 4390, 'philippine': 4391, 'philippines': 4392, 'prophets': 4393, 'quicken': 4394, 'reconstruction': 4395, 'reports': 4396, 'requisites': 4397, 'rightly': 4398, 'smooth': 4399, 'solve': 4400, 'spared': 4401, 'speed': 4402, 'transfer': 4403, 'triumphed': 4404, 'unprecedented': 4405, 'ventures': 4406, 'wrought': 4407, 'abraham': 4408, 'afraid': 4409, 'alien': 4410, 'aright': 4411, 'behave': 4412, 'centers': 4413, 'count': 4414, 'deeds': 4415, 'everyday': 4416, 'faced': 4417, 'fiber': 4418, 'heritage': 4419, 'lincoln': 4420, 'lofty': 4421, 'obliged': 4422, 'realization': 4423, 'rises': 4424, 'soul': 4425, 'tasks': 4426, 'thankful': 4427, 'thrive': 4428, 'traits': 4429, 'unchanged': 4430, 'wrongdoing': 4431, 'affirmed': 4432, 'alive': 4433, 'americans': 4434, 'antitrust': 4435, 'asserted': 4436, 'assertion': 4437, 'base': 4438, 'blind': 4439, 'boycott': 4440, 'channel': 4441, 'conservation': 4442, 'constructive': 4443, 'corporation': 4444, 'creative': 4445, 'deposits': 4446, 'device': 4447, 'devices': 4448, 'dingley': 4449, 'door': 4450, 'drafted': 4451, 'electorate': 4452, 'embody': 4453, 'examine': 4454, 'excuse': 4455, 'feasible': 4456, 'foolish': 4457, 'forests': 4458, 'fourteenth': 4459, 'friction': 4460, 'harm': 4461, 'immigrants': 4462, 'indirect': 4463, 'initiated': 4464, 'injured': 4465, 'instinct': 4466, 'intent': 4467, 'interstate': 4468, 'intricate': 4469, 'invented': 4470, 'investment': 4471, 'laborers': 4472, 'linked': 4473, 'lock': 4474, 'machinery': 4475, 'mainland': 4476, 'maximum': 4477, 'minimize': 4478, 'minimum': 4479, 'offers': 4480, 'operating': 4481, 'orient': 4482, 'panama': 4483, 'panic': 4484, 'perfecting': 4485, 'play': 4486, 'porto': 4487, 'privileged': 4488, 'procedure': 4489, 'prosecution': 4490, 'putting': 4491, 'quickly': 4492, 'railway': 4493, 'reorganization': 4494, 'restraining': 4495, 'restrictions': 4496, 'rico': 4497, 'root': 4498, 'savings': 4499, 'scale': 4500, 'secondary': 4501, 'shows': 4502, 'square': 4503, 'statements': 4504, 'statistics': 4505, 'statute': 4506, 'stock': 4507, 'substantially': 4508, 'thirteenth': 4509, 'tolerance': 4510, 'type': 4511, 'tyranny': 4512, 'undoubtedly': 4513, 'visit': 4514, 'whites': 4515, 'wishing': 4516, 'abundance': 4517, 'agony': 4518, 'air': 4519, 'alter': 4520, 'bounty': 4521, 'clean': 4522, 'conceived': 4523, 'credits': 4524, 'critically': 4525, 'determining': 4526, 'ears': 4527, 'factories': 4528, 'familiar': 4529, 'food': 4530, 'giant': 4531, 'going': 4532, 'groups': 4533, 'helpfulness': 4534, 'helping': 4535, 'ideals': 4536, 'inconceivable': 4537, 'loved': 4538, 'mines': 4539, 'moving': 4540, 'muster': 4541, 'neglected': 4542, 'processes': 4543, 'proudly': 4544, 'refreshed': 4545, 'renewal': 4546, 'safeguarding': 4547, 'sell': 4548, 'sentimental': 4549, 'spiritual': 4550, 'stirred': 4551, 'storm': 4552, 'studied': 4553, 'summon': 4554, 'sweep': 4555, 'tell': 4556, 'thoughtfully': 4557, 'undertakings': 4558, 'vision': 4559, 'vitality': 4560, 'wait': 4561, 'women': 4562, 'apart': 4563, 'argue': 4564, 'aware': 4565, 'building': 4566, 'clarify': 4567, 'closer': 4568, 'covet': 4569, 'currents': 4570, 'despite': 4571, 'fortify': 4572, 'henceforth': 4573, 'indifferent': 4574, 'leader': 4575, 'named': 4576, 'outside': 4577, 'peoples': 4578, 'rooted': 4579, 'shadows': 4580, 'speaks': 4581, 'spirits': 4582, 'tragic': 4583, 'turmoil': 4584, 'turning': 4585, 'unselfish': 4586, 'wished': 4587, 'abnormal': 4588, 'acclaim': 4589, 'alert': 4590, 'appraise': 4591, 'aspire': 4592, 'balances': 4593, 'barriers': 4594, 'brotherhood': 4595, 'buy': 4596, 'collective': 4597, 'commitment': 4598, 'commitments': 4599, 'concept': 4600, 'conference': 4601, 'consecration': 4602, 'costs': 4603, 'crave': 4604, 'cup': 4605, 'dependable': 4606, 'directing': 4607, 'disorder': 4608, 'distressed': 4609, 'doth': 4610, 'dream': 4611, 'envy': 4612, 'era': 4613, 'fellowship': 4614, 'fever': 4615, 'fitted': 4616, 'founding': 4617, 'futility': 4618, 'gladly': 4619, 'goal': 4620, 'grim': 4621, 'groping': 4622, 'group': 4623, 'guarding': 4624, 'hateful': 4625, 'hatred': 4626, 'heavily': 4627, 'heights': 4628, 'hours': 4629, 'humankind': 4630, 'humility': 4631, 'impede': 4632, 'inaugurate': 4633, 'inflations': 4634, 'justiciable': 4635, 'lack': 4636, 'levels': 4637, 'lighten': 4638, 'losses': 4639, 'materially': 4640, 'mechanism': 4641, 'miracle': 4642, 'mistakes': 4643, 'mothers': 4644, 'nobler': 4645, 'normal': 4646, 'normalcy': 4647, 'oldest': 4648, 'outrage': 4649, 'plant': 4650, 'program': 4651, 'proven': 4652, 'reaction': 4653, 'readjustment': 4654, 'realities': 4655, 'refinements': 4656, 'relationship': 4657, 'relationships': 4658, 'resume': 4659, 'sensed': 4660, 'spiritually': 4661, 'staggering': 4662, 'start': 4663, 'surpassing': 4664, 'table': 4665, 'tariffs': 4666, 'thee': 4667, 'thy': 4668, 'tomorrow': 4669, 'torn': 4670, 'touch': 4671, 'turns': 4672, 'unafraid': 4673, 'unemployment': 4674, 'unmistakable': 4675, 'unselfishness': 4676, 'upheaval': 4677, 'upheavals': 4678, 'woman': 4679, 'womanhood': 4680, 'wounded': 4681, 'writ': 4682, 'yesterday': 4683, 'advocated': 4684, 'array': 4685, 'artificial': 4686, 'balanced': 4687, 'birthright': 4688, 'chooses': 4689, 'continuation': 4690, 'criticism': 4691, 'definitely': 4692, 'deliverance': 4693, 'diminishes': 4694, 'display': 4695, 'drastic': 4696, 'dwarfed': 4697, 'earn': 4698, 'electric': 4699, 'enormous': 4700, 'erect': 4701, 'experiences': 4702, 'failures': 4703, 'falls': 4704, 'fiftieth': 4705, 'financing': 4706, 'finding': 4707, 'friendliness': 4708, 'heed': 4709, 'idealism': 4710, 'indicates': 4711, 'isolation': 4712, 'jungle': 4713, 'justified': 4714, 'lengthens': 4715, 'logic': 4716, 'matchless': 4717, 'meager': 4718, 'narrowed': 4719, 'openly': 4720, 'overwhelmingly': 4721, 'ownership': 4722, 'plains': 4723, 'polls': 4724, 'ranks': 4725, 'realizing': 4726, 'represents': 4727, 'respond': 4728, 'response': 4729, 'satisfying': 4730, 'scholars': 4731, 'sends': 4732, 'showed': 4733, 'structures': 4734, 'successes': 4735, 'tireless': 4736, 'triumphant': 4737, 'utilities': 4738, 'worked': 4739, 'abounding': 4740, 'accomplishments': 4741, 'big': 4742, 'borders': 4743, 'boy': 4744, 'criminals': 4745, 'died': 4746, 'effectiveness': 4747, 'eighteenth': 4748, 'enlist': 4749, 'establishes': 4750, 'expands': 4751, 'exploitation': 4752, 'faiths': 4753, 'girl': 4754, 'imperialism': 4755, 'imply': 4756, 'increasingly': 4757, 'indifference': 4758, 'journey': 4759, 'learning': 4760, 'liberation': 4761, 'liquor': 4762, 'literature': 4763, 'major': 4764, 'objective': 4765, 'primarily': 4766, 'proposals': 4767, 'racial': 4768, 'recovery': 4769, 'recreation': 4770, 'redistribution': 4771, 'request': 4772, 'satisfactions': 4773, 'stimulating': 4774, 'stimulation': 4775, 'tradition': 4776, 'travel': 4777, 'youth': 4778, 'agreements': 4779, 'asks': 4780, 'basic': 4781, 'changers': 4782, 'chase': 4783, 'convert': 4784, 'courses': 4785, 'critical': 4786, 'dedicated': 4787, 'endured': 4788, 'exchange': 4789, 'families': 4790, 'fantastic': 4791, 'frozen': 4792, 'goods': 4793, 'helped': 4794, 'host': 4795, 'image': 4796, 'interdependence': 4797, 'languishes': 4798, 'neighbor': 4799, 'pattern': 4800, 'plague': 4801, 'pleading': 4802, 'primary': 4803, 'realistically': 4804, 'revive': 4805, 'stress': 4806, 'stricken': 4807, 'thank': 4808, 'tragedy': 4809, 'unemployed': 4810, 'unsolvable': 4811, 'warm': 4812, 'ahead': 4813, 'aught': 4814, 'beaten': 4815, 'book': 4816, 'centuries': 4817, 'challenged': 4818, 'chaos': 4819, 'chapter': 4820, 'controls': 4821, 'divides': 4822, 'drive': 4823, 'epidemics': 4824, 'fatalistic': 4825, 'fourth': 4826, 'historic': 4827, 'horizons': 4828, 'irresponsibility': 4829, 'job': 4830, 'level': 4831, 'objectives': 4832, 'opportunism': 4833, 'patchwork': 4834, 'ruthless': 4835, 'says': 4836, 'sit': 4837, 'spreading': 4838, 'stagnation': 4839, 'subsistence': 4840, 'tens': 4841, 'third': 4842, 'timidity': 4843, 'worldly': 4844, 'americas': 4845, 'aspiration': 4846, 'enslaved': 4847, 'feed': 4848, 'gettysburg': 4849, 'killed': 4850, 'mystical': 4851, 'story': 4852, 'unhampered': 4853, 'villages': 4854, 'wave': 4855, 'blows': 4856, 'dr': 4857, 'trend': 4858, 'areas': 4859, 'arrived': 4860, 'attacks': 4861, 'challenges': 4862, 'communism': 4863, 'company': 4864, 'concepts': 4865, 'cooperative': 4866, 'deceit': 4867, 'developments': 4868, 'equals': 4869, 'housing': 4870, 'hunger': 4871, 'inalienable': 4872, 'misery': 4873, 'oppressors': 4874, 'participating': 4875, 'partners': 4876, 'pool': 4877, 'programs': 4878, 'regime': 4879, 'stagnant': 4880, 'steadfast': 4881, 'surpass': 4882, 'survival': 4883, 'technical': 4884, 'technological': 4885, 'victims': 4886, 'weapon': 4887, 'worldwide': 4888, 'aimed': 4889, 'amen': 4890, 'argonne': 4891, 'beckons': 4892, 'begin': 4893, 'betrays': 4894, 'binds': 4895, 'bow': 4896, 'brothers': 4897, 'cold': 4898, 'compassion': 4899, 'cultural': 4900, 'decency': 4901, 'define': 4902, 'documents': 4903, 'equipped': 4904, 'furnaces': 4905, 'generate': 4906, 'heal': 4907, 'korea': 4908, 'livelihood': 4909, 'loses': 4910, 'night': 4911, 'pick': 4912, 'planet': 4913, 'planter': 4914, 'precepts': 4915, 'productivity': 4916, 'quest': 4917, 'rice': 4918, 'role': 4919, 'rush': 4920, 'scientists': 4921, 'sick': 4922, 'sign': 4923, 'signs': 4924, 'stamina': 4925, 'summit': 4926, 'symbol': 4927, 'testimony': 4928, 'turbulence': 4929, 'unmatched': 4930, 'blow': 4931, 'deepest': 4932, 'deserts': 4933, 'flames': 4934, 'hungry': 4935, 'knows': 4936, 'lightning': 4937, 'longing': 4938, 'prison': 4939, 'shoulders': 4940, 'skills': 4941, 'song': 4942, 'spark': 4943, 'speaker': 4944, 'stranger': 4945, 'strives': 4946, 'weapons': 4947, 'atom': 4948, 'beliefs': 4949, 'celebration': 4950, 'civility': 4951, 'clergy': 4952, 'conquer': 4953, 'corners': 4954, 'deadly': 4955, 'eisenhower': 4956, 'ended': 4957, 'engulf': 4958, 'explore': 4959, 'forebears': 4960, 'forge': 4961, 'global': 4962, 'hardship': 4963, 'inside': 4964, 'johnson': 4965, 'negotiate': 4966, 'prey': 4967, 'push': 4968, 'reverend': 4969, 'split': 4970, 'uncertain': 4971, 'unleashed': 4972, 'wonders': 4973, 'bend': 4974, 'decides': 4975, 'exile': 4976, 'falling': 4977, 'flourish': 4978, 'fragile': 4979, 'harvest': 4980, 'hatreds': 4981, 'heading': 4982, 'healing': 4983, 'hopeless': 4984, 'imagine': 4985, 'mars': 4986, 'mastery': 4987, 'miracles': 4988, 'moves': 4989, 'placing': 4990, 'rocket': 4991, 'saying': 4992, 'shaking': 4993, 'shoulder': 4994, 'someday': 4995, 'span': 4996, 'transform': 4997, 'wilderness': 4998, 'adventure': 4999, 'adversaries': 5000, 'angry': 5001, 'catch': 5002, 'caught': 5003, 'choices': 5004, 'confrontation': 5005, 'congressman': 5006, 'curse': 5007, 'dawn': 5008, 'decades': 5009, 'despaired': 5010, 'ensure': 5011, 'franklin': 5012, 'goals': 5013, 'homeless': 5014, 'inflated': 5015, 'match': 5016, 'message': 5017, 'millennium': 5018, 'moon': 5019, 'onto': 5020, 'perspective': 5021, 'quiet': 5022, 'reaches': 5023, 'rebuilding': 5024, 'rhetoric': 5025, 'riders': 5026, 'roosevelt': 5027, 'senator': 5028, 'spiraling': 5029, 'strengths': 5030, 'tempted': 5031, 'unique': 5032, 'waiting': 5033, 'weeks': 5034, 'worlds': 5035, 'beacon': 5036, 'bridges': 5037, 'cleaner': 5038, 'endless': 5039, 'friendships': 5040, 'initiatives': 5041, 'longest': 5042, 'nuclear': 5043, 'parents': 5044, 'responsibly': 5045, 'revitalize': 5046, 'shift': 5047, 'steadfastness': 5048, 'striving': 5049, 'arsenal': 5050, 'boldness': 5051, 'compassionate': 5052, 'drift': 5053, 'elimination': 5054, 'endures': 5055, 'idealistic': 5056, 'massive': 5057, 'micah': 5058, 'prophet': 5059, 'sun': 5060, 'timeless': 5061, 'vulnerable': 5062, 'arlington': 5063, 'bush': 5064, 'commonplace': 5065, 'confronting': 5066, 'continuity': 5067, 'core': 5068, 'crosses': 5069, 'depended': 5070, 'elderly': 5071, 'ending': 5072, 'ethnic': 5073, 'george': 5074, 'guarantee': 5075, 'inflation': 5076, 'jobs': 5077, 'mall': 5078, 'markers': 5079, 'martin': 5080, 'memorial': 5081, 'monument': 5082, 'neill': 5083, 'patrol': 5084, 'penalizes': 5085, 'priorities': 5086, 'provides': 5087, 'row': 5088, 'spending': 5089, 'stately': 5090, 'streets': 5091, 'thomas': 5092, 'vietnam': 5093, 'workers': 5094, 'yes': 5095, 'brighter': 5096, 'budget': 5097, 'democracies': 5098, 'dole': 5099, 'echoes': 5100, 'fills': 5101, 'gotten': 5102, 'hearted': 5103, 'hoping': 5104, 'horseback': 5105, 'infirm': 5106, 'john': 5107, 'kill': 5108, 'lit': 5109, 'mathias': 5110, 'missiles': 5111, 'music': 5112, 'reborn': 5113, 'snow': 5114, 'soviet': 5115, 'soviets': 5116, 'started': 5117, 'totalitarian': 5118, 'unleash': 5119, 'untamed': 5120, 'wrote': 5121, 'bigger': 5122, 'blowing': 5123, 'breeze': 5124, 'choosing': 5125, 'crucial': 5126, 'drugs': 5127, 'edge': 5128, 'endlessly': 5129, 'engagement': 5130, 'fist': 5131, 'reveal': 5132, 'saint': 5133, 'salute': 5134, 'trumpets': 5135, 'unfolds': 5136, 'vow': 5137, 'water': 5138, 'depth': 5139, 'ennobled': 5140, 'faint': 5141, 'fascism': 5142, 'fractured': 5143, 'remaking': 5144, 'scripture': 5145, 'sights': 5146, 'sleep': 5147, 'technology': 5148, 'winter': 5149, 'bridge': 5150, 'fuel': 5151, 'harness': 5152, 'legacy': 5153, 'reclaim': 5154, 'shuttered': 5155, 'stained': 5156, 'clinton': 5157, 'directs': 5158, 'favors': 5159, 'grace': 5160, 'grandest': 5161, 'guests': 5162, 'humbled': 5163, 'raging': 5164, 'rides': 5165, 'stakes': 5166, 'whirlwind': 5167, 'businesses': 5168, 'darkest': 5169, 'dissent': 5170, 'k': 5171, 'reaffirming': 5172, 'relies': 5173, 'resentment': 5174, 'threats': 5175, 'xand': 5176, 'icy': 5177, 'storms': 5178}\n"
     ]
    }
   ],
   "source": [
    "print(dictionary.token2id)"
   ]
  },
  {
   "cell_type": "code",
   "execution_count": 50,
   "metadata": {},
   "outputs": [],
   "source": [
    "corpus = [dictionary.doc2bow(doc) for doc in tokenized_docs]"
   ]
  },
  {
   "cell_type": "markdown",
   "metadata": {},
   "source": [
    "Trénovanie TF-IDF modelu"
   ]
  },
  {
   "cell_type": "code",
   "execution_count": 51,
   "metadata": {},
   "outputs": [],
   "source": [
    "tfidf_model = models.TfidfModel(corpus)"
   ]
  },
  {
   "cell_type": "code",
   "execution_count": 52,
   "metadata": {},
   "outputs": [],
   "source": [
    "tfidf_corpus = tfidf_model[corpus]"
   ]
  },
  {
   "cell_type": "code",
   "execution_count": 53,
   "metadata": {},
   "outputs": [
    {
     "data": {
      "text/plain": [
       "[(0, 0.028010090497208276),\n",
       " (1, 0.07085344594214385),\n",
       " (2, 0.04749339521031525),\n",
       " (3, 0.015511844798307405),\n",
       " (4, 0.04137634383884512),\n",
       " (5, 0.028010090497208276),\n",
       " (6, 0.05611489489049448),\n",
       " (7, 0.06223194626196463),\n",
       " (8, 0.025148643506526666),\n",
       " (9, 0.03663159017738751)]"
      ]
     },
     "execution_count": 53,
     "metadata": {},
     "output_type": "execute_result"
    }
   ],
   "source": [
    "tfidf_corpus[0][:10]"
   ]
  },
  {
   "cell_type": "markdown",
   "metadata": {},
   "source": [
    "Ďalšie modely: LSI, LDA, ..."
   ]
  },
  {
   "cell_type": "markdown",
   "metadata": {},
   "source": [
    "Môžeme vypočítať podobnosť výsledných vektorov:"
   ]
  },
  {
   "cell_type": "code",
   "execution_count": 54,
   "metadata": {},
   "outputs": [],
   "source": [
    "index = similarities.MatrixSimilarity(tfidf_corpus)"
   ]
  },
  {
   "cell_type": "code",
   "execution_count": 55,
   "metadata": {},
   "outputs": [
    {
     "data": {
      "text/plain": [
       "array([0.99999994, 0.05204535, 0.11806069, 0.10361628, 0.08821429,\n",
       "       0.11326972, 0.08443201, 0.13961926, 0.11418307, 0.13363883,\n",
       "       0.12441207, 0.10547448, 0.13012546, 0.16001716, 0.11614959,\n",
       "       0.11807807, 0.12322758, 0.1193403 , 0.09294098, 0.04349447,\n",
       "       0.05975523, 0.06178577, 0.1137971 , 0.0716081 , 0.10576563,\n",
       "       0.09300245, 0.08222347, 0.09069102, 0.06769612, 0.02679328,\n",
       "       0.08959054, 0.06768762, 0.07814044, 0.067146  , 0.08975255,\n",
       "       0.06536622, 0.05937269, 0.04135488, 0.05134605, 0.03186388,\n",
       "       0.04473033, 0.07292005, 0.03711684, 0.0621645 , 0.04236317,\n",
       "       0.04424392, 0.0487093 , 0.0367588 , 0.04386257, 0.04083951,\n",
       "       0.04396403, 0.04307514, 0.04092164, 0.04443119, 0.04516653,\n",
       "       0.06448399], dtype=float32)"
      ]
     },
     "execution_count": 55,
     "metadata": {},
     "output_type": "execute_result"
    }
   ],
   "source": [
    "index[tfidf_corpus[0]]"
   ]
  },
  {
   "cell_type": "markdown",
   "metadata": {},
   "source": [
    "## word2vec"
   ]
  },
  {
   "cell_type": "markdown",
   "metadata": {},
   "source": [
    "Každé slovo má naučený vektor reálnych čísel, ktoré reprezentujú rôzne jeho vlastnosti a zachytávajú viaceré lingvistické pravidelnosti. Môžeme počítať podobnosť medzi slovami ako podobnosť dvoch vektorov."
   ]
  },
  {
   "cell_type": "markdown",
   "metadata": {},
   "source": [
    "vector('Paris') - vector('France') + vector('Italy') ~= vector('Rome')\n",
    "\n",
    "vector('king') - vector('man') + vector('woman') ~= vector('queen')"
   ]
  },
  {
   "cell_type": "markdown",
   "metadata": {},
   "source": [
    "https://radimrehurek.com/gensim/models/word2vec.html\n",
    "\n",
    "https://medium.com/@mishra.thedeepak/word2vec-in-minutes-gensim-nlp-python-6940f4e00980"
   ]
  },
  {
   "cell_type": "code",
   "execution_count": 56,
   "metadata": {},
   "outputs": [],
   "source": [
    "from nltk.corpus import brown"
   ]
  },
  {
   "cell_type": "code",
   "execution_count": 57,
   "metadata": {},
   "outputs": [],
   "source": [
    "sentences = brown.sents()\n",
    "model = models.Word2Vec(sentences, min_count=1)"
   ]
  },
  {
   "cell_type": "code",
   "execution_count": 58,
   "metadata": {},
   "outputs": [],
   "source": [
    "model.save('brown_model')"
   ]
  },
  {
   "cell_type": "code",
   "execution_count": 59,
   "metadata": {},
   "outputs": [],
   "source": [
    "model = models.Word2Vec.load('brown_model')"
   ]
  },
  {
   "cell_type": "code",
   "execution_count": 60,
   "metadata": {},
   "outputs": [
    {
     "name": "stdout",
     "output_type": "stream",
     "text": [
      "[('father', 0.9836875200271606), ('husband', 0.9670533537864685), ('wife', 0.9494056701660156), ('friend', 0.9331459999084473), ('son', 0.9288727045059204), ('nickname', 0.9242666959762573), ('eagle', 0.9237925410270691), ('addiction', 0.9088147878646851), ('voice', 0.9041908979415894), ('patient', 0.898863673210144)]\n"
     ]
    },
    {
     "name": "stderr",
     "output_type": "stream",
     "text": [
      "C:\\Users\\robom\\Anaconda3\\lib\\site-packages\\ipykernel_launcher.py:1: DeprecationWarning: Call to deprecated `most_similar` (Method will be removed in 4.0.0, use self.wv.most_similar() instead).\n",
      "  \"\"\"Entry point for launching an IPython kernel.\n"
     ]
    }
   ],
   "source": [
    "print(model.most_similar(\"mother\"))"
   ]
  },
  {
   "cell_type": "code",
   "execution_count": 61,
   "metadata": {},
   "outputs": [
    {
     "name": "stdout",
     "output_type": "stream",
     "text": [
      "cereal\n"
     ]
    },
    {
     "name": "stderr",
     "output_type": "stream",
     "text": [
      "C:\\Users\\robom\\Anaconda3\\lib\\site-packages\\ipykernel_launcher.py:1: DeprecationWarning: Call to deprecated `doesnt_match` (Method will be removed in 4.0.0, use self.wv.doesnt_match() instead).\n",
      "  \"\"\"Entry point for launching an IPython kernel.\n"
     ]
    }
   ],
   "source": [
    "print(model.doesnt_match(\"breakfast cereal dinner lunch\".split()))"
   ]
  },
  {
   "cell_type": "code",
   "execution_count": 62,
   "metadata": {},
   "outputs": [
    {
     "name": "stdout",
     "output_type": "stream",
     "text": [
      "garden\n"
     ]
    },
    {
     "name": "stderr",
     "output_type": "stream",
     "text": [
      "C:\\Users\\robom\\Anaconda3\\lib\\site-packages\\ipykernel_launcher.py:1: DeprecationWarning: Call to deprecated `doesnt_match` (Method will be removed in 4.0.0, use self.wv.doesnt_match() instead).\n",
      "  \"\"\"Entry point for launching an IPython kernel.\n"
     ]
    }
   ],
   "source": [
    "print(model.doesnt_match(\"pizza pasta garden fries\".split()))"
   ]
  },
  {
   "cell_type": "code",
   "execution_count": 63,
   "metadata": {},
   "outputs": [
    {
     "name": "stderr",
     "output_type": "stream",
     "text": [
      "C:\\Users\\robom\\Anaconda3\\lib\\site-packages\\ipykernel_launcher.py:1: DeprecationWarning: Call to deprecated `__getitem__` (Method will be removed in 4.0.0, use self.wv.__getitem__() instead).\n",
      "  \"\"\"Entry point for launching an IPython kernel.\n"
     ]
    },
    {
     "data": {
      "text/plain": [
       "array([ 7.1351969e-01, -1.0662327e+00,  4.4801840e-01, -3.4874544e-01,\n",
       "        2.4212834e-01, -4.8826885e-01, -5.6739539e-01, -5.4916717e-02,\n",
       "        3.9750642e-01, -2.3501728e-01, -1.0215302e+00, -6.2889409e-01,\n",
       "       -3.4316877e-01, -4.2195103e-01, -6.4484030e-02,  1.4526959e-01,\n",
       "        5.0767489e-02,  8.5087603e-01, -7.6076645e-01,  2.9377794e-02,\n",
       "        4.4613871e-01, -5.2192396e-01, -1.1755441e+00,  6.0121775e-01,\n",
       "        1.9876586e-01, -5.7574081e-01, -2.9803094e-01,  4.6097738e-01,\n",
       "        6.8803990e-01,  4.8882037e-01, -3.4477088e-01, -4.6495485e-01,\n",
       "        7.0504713e-01,  3.4196910e-02, -2.0306702e-01,  9.2895672e-04,\n",
       "        7.3839158e-01,  1.0560349e+00, -3.1828487e-01, -1.2155364e-02,\n",
       "        3.7080872e-01,  4.3286121e-01, -2.7873456e-01,  5.6668770e-01,\n",
       "        5.1381075e-01,  1.3188648e+00, -5.4922897e-01,  4.4775826e-01,\n",
       "        5.8492380e-01,  6.0740554e-01, -1.0089926e+00,  8.7248558e-01,\n",
       "       -7.1436685e-01, -8.8439777e-02, -8.3853030e-01, -8.1514442e-01,\n",
       "       -2.3605083e-01, -3.7410568e-02, -6.7493558e-01,  1.7106067e-02,\n",
       "        2.7549663e-01,  5.5894011e-01, -1.4245687e-01,  7.8279518e-02,\n",
       "        4.2565882e-01,  7.8904498e-01,  4.1324419e-01, -9.7887295e-01,\n",
       "        2.8012544e-01, -1.4857864e+00, -1.0542871e+00, -4.0328312e-01,\n",
       "        6.4560361e-02,  3.5042146e-01,  5.2051544e-02,  4.9088988e-01,\n",
       "        4.4325522e-01, -9.1899365e-02,  2.9312629e-01, -3.8791609e-01,\n",
       "       -7.8096682e-01,  3.7095085e-01, -1.2778226e-01,  5.0445032e-01,\n",
       "        9.1131985e-02,  2.8860328e-01,  2.1861248e-01,  3.0775437e-01,\n",
       "       -9.7335599e-02, -2.7518240e-01,  2.8726894e-01,  4.2415836e-01,\n",
       "       -6.5922034e-01, -1.8542061e-03, -1.0776711e+00, -4.3072648e-02,\n",
       "        3.8492179e-01, -3.4585759e-01,  1.8210118e-01, -9.8497403e-01],\n",
       "      dtype=float32)"
      ]
     },
     "execution_count": 63,
     "metadata": {},
     "output_type": "execute_result"
    }
   ],
   "source": [
    "model['human']"
   ]
  },
  {
   "cell_type": "markdown",
   "metadata": {},
   "source": [
    "## Extrakcia čŕt pomocou scikit-learn\n",
    "\n",
    "http://scikit-learn.org/stable/modules/feature_extraction.html#text-feature-extraction"
   ]
  },
  {
   "cell_type": "code",
   "execution_count": 64,
   "metadata": {},
   "outputs": [],
   "source": [
    "from sklearn.feature_extraction.text import CountVectorizer\n",
    "from sklearn.feature_extraction.text import TfidfVectorizer"
   ]
  },
  {
   "cell_type": "code",
   "execution_count": 65,
   "metadata": {},
   "outputs": [],
   "source": [
    "docs = [text['text'] for text in texts]"
   ]
  },
  {
   "cell_type": "code",
   "execution_count": 66,
   "metadata": {},
   "outputs": [],
   "source": [
    "vectorizer = CountVectorizer(stop_words='english')\n",
    "tf = vectorizer.fit_transform(docs)"
   ]
  },
  {
   "cell_type": "code",
   "execution_count": 67,
   "metadata": {},
   "outputs": [
    {
     "data": {
      "text/plain": [
       "array([0, 0, 0, 0, 0, 1, 0, 0, 0, 0, 0, 0, 0, 0, 0, 0, 0, 0, 0, 0, 0, 0,\n",
       "       0, 0, 0, 0, 0, 0, 0, 0, 0, 0, 0, 0, 0, 0, 0, 0, 0, 0, 0, 0, 0, 0,\n",
       "       0, 0, 0, 0, 0, 0, 0, 0, 0, 0, 0, 0, 0, 0, 0, 0, 0, 0, 0, 0, 0, 0,\n",
       "       0, 0, 0, 0, 0, 0, 0, 0, 0, 0, 0, 0, 0, 0, 0, 0, 0, 0, 0, 0, 0, 0,\n",
       "       0, 0, 0, 0, 0, 0, 0, 0, 0, 0, 0, 0], dtype=int64)"
      ]
     },
     "execution_count": 67,
     "metadata": {},
     "output_type": "execute_result"
    }
   ],
   "source": [
    "tf.toarray()[0][:100]"
   ]
  },
  {
   "cell_type": "code",
   "execution_count": 68,
   "metadata": {},
   "outputs": [
    {
     "data": {
      "text/plain": [
       "['000',\n",
       " '100',\n",
       " '120',\n",
       " '125',\n",
       " '13',\n",
       " '14th',\n",
       " '15th',\n",
       " '16',\n",
       " '1774',\n",
       " '1776',\n",
       " '1778',\n",
       " '1780',\n",
       " '1787',\n",
       " '1789',\n",
       " '1790',\n",
       " '1800',\n",
       " '1801',\n",
       " '1812',\n",
       " '1815',\n",
       " '1816',\n",
       " '1817',\n",
       " '1818',\n",
       " '1826',\n",
       " '1850',\n",
       " '1861',\n",
       " '1868',\n",
       " '1873',\n",
       " '1880',\n",
       " '1886',\n",
       " '1890',\n",
       " '1893',\n",
       " '1896',\n",
       " '1897',\n",
       " '1898',\n",
       " '1899',\n",
       " '18th',\n",
       " '1907',\n",
       " '1917',\n",
       " '1933',\n",
       " '1941',\n",
       " '1945',\n",
       " '1963',\n",
       " '1972',\n",
       " '1980',\n",
       " '1984',\n",
       " '19th',\n",
       " '20',\n",
       " '200',\n",
       " '200th',\n",
       " '20th',\n",
       " '21st',\n",
       " '225',\n",
       " '25',\n",
       " '30',\n",
       " '30th',\n",
       " '3d',\n",
       " '41',\n",
       " '48',\n",
       " '4th',\n",
       " '50',\n",
       " '50th',\n",
       " '60',\n",
       " '67',\n",
       " '6th',\n",
       " 'abandon',\n",
       " 'abandoned',\n",
       " 'abandonment',\n",
       " 'abate',\n",
       " 'abdicated',\n",
       " 'abeyance',\n",
       " 'abhorring',\n",
       " 'abide',\n",
       " 'abiding',\n",
       " 'abilities',\n",
       " 'ability',\n",
       " 'abject',\n",
       " 'able',\n",
       " 'ably',\n",
       " 'abnormal',\n",
       " 'abode',\n",
       " 'abodes',\n",
       " 'abolish',\n",
       " 'abolished',\n",
       " 'abolishing',\n",
       " 'aboriginal',\n",
       " 'aborigines',\n",
       " 'abound',\n",
       " 'abounding',\n",
       " 'abounds',\n",
       " 'abraham',\n",
       " 'abreast',\n",
       " 'abridging',\n",
       " 'abroad',\n",
       " 'absence',\n",
       " 'absent',\n",
       " 'absolute',\n",
       " 'absolutely',\n",
       " 'absorb',\n",
       " 'absorbed',\n",
       " 'absorbing']"
      ]
     },
     "execution_count": 68,
     "metadata": {},
     "output_type": "execute_result"
    }
   ],
   "source": [
    "vectorizer.get_feature_names()[:100]"
   ]
  },
  {
   "cell_type": "code",
   "execution_count": 69,
   "metadata": {},
   "outputs": [],
   "source": [
    "transformer = TfidfVectorizer(stop_words='english')\n",
    "tfidf = transformer.fit_transform(docs)"
   ]
  },
  {
   "cell_type": "code",
   "execution_count": 70,
   "metadata": {},
   "outputs": [
    {
     "data": {
      "text/plain": [
       "array([0.        , 0.        , 0.        , 0.        , 0.        ,\n",
       "       0.05753266, 0.        , 0.        , 0.        , 0.        ,\n",
       "       0.        , 0.        , 0.        , 0.        , 0.        ,\n",
       "       0.        , 0.        , 0.        , 0.        , 0.        ,\n",
       "       0.        , 0.        , 0.        , 0.        , 0.        ,\n",
       "       0.        , 0.        , 0.        , 0.        , 0.        ,\n",
       "       0.        , 0.        , 0.        , 0.        , 0.        ,\n",
       "       0.        , 0.        , 0.        , 0.        , 0.        ,\n",
       "       0.        , 0.        , 0.        , 0.        , 0.        ,\n",
       "       0.        , 0.        , 0.        , 0.        , 0.        ,\n",
       "       0.        , 0.        , 0.        , 0.        , 0.        ,\n",
       "       0.        , 0.        , 0.        , 0.        , 0.        ,\n",
       "       0.        , 0.        , 0.        , 0.        , 0.        ,\n",
       "       0.        , 0.        , 0.        , 0.        , 0.        ,\n",
       "       0.        , 0.        , 0.        , 0.        , 0.        ,\n",
       "       0.        , 0.        , 0.        , 0.        , 0.        ,\n",
       "       0.        , 0.        , 0.        , 0.        , 0.        ,\n",
       "       0.        , 0.        , 0.        , 0.        , 0.        ,\n",
       "       0.        , 0.        , 0.        , 0.        , 0.        ,\n",
       "       0.        , 0.        , 0.        , 0.        , 0.        ])"
      ]
     },
     "execution_count": 70,
     "metadata": {},
     "output_type": "execute_result"
    }
   ],
   "source": [
    "tfidf.toarray()[0][:100]"
   ]
  },
  {
   "cell_type": "markdown",
   "metadata": {},
   "source": [
    "## Úlohy\n",
    "\n",
    "1. Vypíšte 10 najčastejších slov z inaugaračných prejavov amerických prezidentov (pre každý prejav zvlášť).\n",
    "2. Pozrite sa na slová s najväčšou váhou podľa TF-IDF; vypíšte pre každý prejav 10 slov s najväčšou váhou. Zmenil sa nejak výsledok oproti prvej úlohe?\n",
    "3. Ktoré dva prejavy sa navzájom najviac podobajú?\n",
    "4. Ako sa menila frekvencia slov `america` a `citizen` v priebehu rokov v týchto prejavoch? (Hint: Ak si neviete rady, pozrite sem: https://www.nltk.org/book/ch02.html. Analogicky môžete zobraziť v grafe priebeh iných slov, ktoré vás zaujímajú.)\n",
    "5. Na zautomatizovanie a sprehľadnenie predspracovania (ale aj ďalších krokov analýzy dát) sa v Pythone používajú tzv. [pipelines](http://scikit-learn.org/stable/modules/generated/sklearn.pipeline.Pipeline.html). Pozrite si, ako pipeliny fungujú: http://zacstewart.com/2014/08/05/pipelines-of-featureunions-of-pipelines.html. Na základe toho prerobte predspracovanie textov (inauguračných prejavov) pomocou pipeliny; budete mať samostatný transformer na tokenizáciu slov (funkcia `preprocess_text` tu v notebooku), odstránenie málopočetných tokenov, prevod textu na vektory a váhovanie pomocou TF-IDF. "
   ]
  }
 ],
 "metadata": {
  "kernelspec": {
   "display_name": "Python 3",
   "language": "python",
   "name": "python3"
  },
  "language_info": {
   "codemirror_mode": {
    "name": "ipython",
    "version": 3
   },
   "file_extension": ".py",
   "mimetype": "text/x-python",
   "name": "python",
   "nbconvert_exporter": "python",
   "pygments_lexer": "ipython3",
   "version": "3.6.4"
  }
 },
 "nbformat": 4,
 "nbformat_minor": 2
}
